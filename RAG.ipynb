{
 "cells": [
  {
   "cell_type": "code",
   "execution_count": 1,
   "id": "41d35a38-006e-4297-b6fd-5cc4ae407718",
   "metadata": {},
   "outputs": [],
   "source": [
    "import glob\n",
    "import os"
   ]
  },
  {
   "cell_type": "code",
   "execution_count": 2,
   "id": "568581a6-f01f-45f1-91a2-20a6a6714c46",
   "metadata": {
    "scrolled": true
   },
   "outputs": [
    {
     "ename": "NameError",
     "evalue": "name 'docs' is not defined",
     "output_type": "error",
     "traceback": [
      "\u001b[0;31m---------------------------------------------------------------------------\u001b[0m",
      "\u001b[0;31mNameError\u001b[0m                                 Traceback (most recent call last)",
      "Cell \u001b[0;32mIn[2], line 10\u001b[0m\n\u001b[1;32m      7\u001b[0m loader \u001b[38;5;241m=\u001b[39m PyPDFDirectoryLoader(\u001b[38;5;124m\"\u001b[39m\u001b[38;5;124mDIC\u001b[39m\u001b[38;5;124m\"\u001b[39m)\n\u001b[1;32m      8\u001b[0m documents \u001b[38;5;241m=\u001b[39m loader\u001b[38;5;241m.\u001b[39mload()\n\u001b[0;32m---> 10\u001b[0m \u001b[38;5;28mprint\u001b[39m(\u001b[38;5;28mlen\u001b[39m(\u001b[43mdocs\u001b[49m))\n",
      "\u001b[0;31mNameError\u001b[0m: name 'docs' is not defined"
     ]
    }
   ],
   "source": [
    "from langchain_community.document_loaders import PyPDFDirectoryLoader\n",
    "from langchain.schema import Document\n",
    "import os\n",
    "\n",
    "pinecone_api_key = os.getenv(\"PINECONE_API_KEY\")\n",
    "\n",
    "loader = PyPDFDirectoryLoader(\"DIC\")\n",
    "documents = loader.load()\n",
    "\n",
    "print(len(documents))"
   ]
  },
  {
   "cell_type": "code",
   "execution_count": 9,
   "id": "8509cb4e-490a-40ac-a518-bdac9ce1da96",
   "metadata": {},
   "outputs": [
    {
     "name": "stdout",
     "output_type": "stream",
     "text": [
      "None\n"
     ]
    }
   ],
   "source": [
    "print(pinecone_api_key)"
   ]
  },
  {
   "cell_type": "code",
   "execution_count": null,
   "id": "67835c36-7be8-4ece-8d88-34cbe303388e",
   "metadata": {},
   "outputs": [],
   "source": [
    "len([f for f in os.listdir(\"./DIC/\")])"
   ]
  },
  {
   "cell_type": "code",
   "execution_count": 3,
   "id": "18c1df11-681b-4dcb-8166-9301070e8c88",
   "metadata": {},
   "outputs": [
    {
     "data": {
      "text/plain": [
       "Document(metadata={'source': 'DIC/FR0007040373_DIC_FR_20230630.pdf', 'page': 0}, page_content=\"DOCUMENT D’INFORMATIONS CLÉS \\nLe présent document contient des informations essentielles sur le produit d’investissement. Il ne s’agit pas d’un document à caractère commercial. \\nCes informations vous sont fournies conformément à une obligation légale, afin de vous aider à comprendre en quoi consiste ce p roduit et quels \\nrisques, coûts, gains et pertes potentiels y sont associés, et de vous aider à le comparer à d’autres produits.\\nEn quoi consiste ce produit ? \\nType : Fonds d'Investissement à Vocation Générale (FIVG) \\n \\nDurée\\n : Le Fonds est créé pour une durée de 99 ans. \\n \\nObjectifs\\n :   \\nL’objectif du FCP est, au travers d’une gestion discrétionnaire, la recherche d’une \\nperformance sur une durée de placement recommandée de 5 ans, en s’exposant aux \\nmarchés financiers français ou étrangers actions, obligations et autres titres de créances \\npar le biais d’investissements en titres en direct ou via des OPCVM ou FIA.  \\nLes décisions d’investissement intègrent à la fois des critères financiers et extra-financiers.  \\nLa prise en compte des critères de responsabilité environnementale, sociale et de \\ngouvernance de l’entreprise (ESG) dans la sélection de titres vise à évaluer la capacité des \\nentreprises à transformer les enjeux du développement durable en vecteurs de performance. \\nLa sélection des valeurs (présentée dans la stratégie d’investissement) conjugue recherche \\nde performance financière et prise en compte des enjeux de développement durable. \\nLes décisions d’investissement reposent ainsi sur une approche 360° combinant analyse \\nfinancière fondamentale et analyse extra-financière à travers la prise en compte des critères \\nESG (Environnement, Social, Gouvernance). SG 29 Haussmann a retenu une approche ISR \\nassociant exclusions sectorielles et intégration des critères ESG (Best-in-Class/Best-Effort). \\nSG 29 Haussmann a retenu une approche ISR associant exclusions sectorielles et intégration \\ndes critères ESG (Best-in-Class (sélection des entreprises les mieux notées au sein de leur \\nsecteur)/Best-Effort (sélection d’entreprises dont les pratiques et performances ESG \\ns’améliorent dans le temps)). \\nL’intégration des critères ESG a pour objectif de sélectionner les valeurs sur la base de leur \\ncomportement extra-financier (émissions carbone, santé, sécurité, rémunération \\nactionnariat…) et en particulier sur leur capacité à transformer les enjeux du développement \\ndurable en vecteurs de performance. \\nDans cette optique, seules les entreprises dont la note ESG est supérieure ou égale à B sur \\nune échelle de AAA à CCC (CCC étant le plus mauvaise) dans la nomenclature MSCI, sont \\néligibles à l’univers d’investissement. \\nDans le cadre de sa politique d’investissement, le FCP adopte une approche en amélioration \\nde note. \\nEn cas de dégradation d’un titre en portefeuille sous les seuils retenus dans la définition de \\nl’univers d’investissement (i.e. une note ESG strictement inférieure à B et/ou une note de \\ncontroverse rouge), le gérant privilégie par défaut une cession dans un délai raisonnable. \\nLe choix du timing de vente est apprécié en fonction des conditions et opportunités de \\nmarché afin de limiter l’impact sur la performance financière du FCP . \\nLes limites méthodologiques de l’approche en matière d’analyse ISR concernent notamment \\nla fiabilité des données extra-financières publiées par les entreprises ainsi que la \\nméthodologie d’analyse non exhaustive et subjective mise en place par la société de gestion \\ndans son approche « Best-in-Class » et « Best-Effort ».  \\nLe FCP dispose du Label ISR de l’Etat Français.  \\nLe portefeuille du FCP est composé : \\n-de 0% à 70% maximum de l’actif net en actions ou autres titres de capital internationaux \\nde toutes capitalisations (10% maximum de l’actif net en petites capitalisations). Les \\ninvestissements pourront porter sur toutes les zones géographiques et tous les secteurs \\néconomiques confondus. Le FCP pourra investir jusqu’à 10% maximum de son actif net sur \\nles marchés émergents. L’exposition aux marchés actions pourra varier entre 30% et 70% \\nmaximum de l’actif net par le biais d’investissements en titres directs et/ou via des OPC (ou \\nde fonds d’investissement étrangers) et instruments dérivés listés simples et complexes. \\n-de 0% à 70% maximum de l’actif net en obligations et autres titres de créances négociés sur \\nles marchés des pays appartenant à l’OCDE. Ces titres pourront être de toutes durations, \\nmaturités et zones géographiques confondues (y compris les pays émergents jusqu’à 10% \\nmaximum de l’actif net). Ces titres auront une notation minimale de BBB- (Standard and \\nPoor’s), ou à défaut une notation équivalente par une autre agence, ou jugée équivalente \\npar la société de gestion. La société de gestion s’appuie sur les notations externes et sur \\nson analyse pour évaluer la qualité de crédit des actifs obligataires. Sur ces bases, elle prend \\ndes décisions d’investissement à l’achat et en cours de vie. \\nLa répartition dette privée/dette publique n’est pas limitée et peut évoluer dans le temps.  \\nL’exposition aux marchés de taux pourra varier entre 0% et 70% maximum de l’actif net par \\nle biais d’investissements en titres directs et/ou via des OPC (ou de fonds d’investissement \\nétrangers) et instruments dérivés listés simples et complexes.  \\nToutefois, le FCP peut détenir à tout moment : \\n•dans une limite de 10% maximum de l’actif net du Fonds des obligations de qualité mais \\nnon notées. Les émissions non notées d’émetteurs notés (émissions convertibles par \\nexemple) sont reclassées dans le rating de l’émetteur, selon le rating de créance. \\n•et dans une limite de 15% maximum de l’actif net du Fonds des titres dits spéculatifs, de \\nnotation comprise entre BB+ et BB- (Standard & Poor’s) ou jugée équivalente par la société \\nde gestion. \\n•dans une limite de 5% maximum de l’actif net du Fonds des obligations dont la notation \\nest inférieure à BB- (ou jugée équivalente par des critères internes à la société de gestion) \\nsuite à une dégradation post-investissement. \\nAinsi, l’exposition aux titres spéculatifs pourra atteindre 30% maximum de l’actif net du FCP .  \\nLa fourchette de sensibilité de la partie taux sera comprise entre 0 et 10.  \\nLe FCP peut investir jusqu’à 10% maximum de son actif net en parts ou actions d’OPCVM \\nfrançais ou européens, FIA et fonds d’investissement de droit étranger respectant les critères \\nde l’article R214-13 du Code Monétaire et Financier. Ces OPCVM, FIA et fonds \\nd’investissement peuvent être gérés ou non par la société de gestion ou une société liée.  \\nLe FCP pourra intervenir sur des instruments financiers à terme négociés sur des marchés \\nréglementés, organisés ou de gré à gré dans une optique de couverture et/ou d’exposition \\ncontre les risques actions et de taux, et uniquement de couverture pour le risque de change, \\nsans rechercher de surexposition aux marchés.  \\nLe FCP pourra investir dans des titres intégrant des dérivés simples et complexes.  \\nL’investissement en Obligations Convertibles Contingentes (Coco’s) ne dépassera pas 10% \\nmaximum de l’actif net du FCP . Les Coco’s sont des obligations converties automatiquement \\nen actions à un prix déterminé, au moment où des critères de déclenchement (niveau des \\npertes, niveau dégradé du capital…) seront actionnés.  \\nLes titres non libellés en euro pourront faire éventuellement l’objet d’une couverture de \\nchange. \\nLe fonds pourra être exposé au risque de change à hauteur de 100% maximum de l’actif net.  \\nLes souscriptions et les rachats sont reçus et centralisés au plus tard à 18H30 le jour ouvré \\nprécédant la date d’établissement de la valeur liquidative sur la base de laquelle ils seront \\nexécutés auprès du dépositaire pour les parts au porteur à inscrire ou inscrites au sein \\nd’Euroclear France et s’agissant uniquement de parts d’investisseurs, personnes morales \\nagissant pour compte propre, auprès d’IZNES au plus tard à 18h pour les parts à inscrire ou \\ninscrites au nominatif au sein du Dispositif d’Enregistrement Electronique Partagé (DEEP).  \\n \\nValeur liquidative quotidienne\\n : La valeur liquidative est établie quotidiennement, sauf en \\ncas de jour férié légal en France et/ou en cas de fermeture de la Bourse de Paris.  \\nLe FCP réinvestit les sommes distribuables (revenu net et plus values nettes réalisées). \\n \\nType d’investisseurs visés \\n: Cette part de fonds est ouverte à tout souscripteur. Ce FCP ne peut \\nêtre souscrit par des « U.S. Persons » ou assimilés. \\n \\nRecommandation \\n: Ce FCP pourrait ne pas convenir aux investisseurs qui prévoient de retirer \\nleur apport dans les 5 ans. \\n \\nDépositaire \\n: Société Générale \\n \\nInformations complémentaires\\n : Vous pouvez obtenir de plus amples informations sur ce \\nFonds, y compris le prospectus et les rapports financiers, gratuitement sur demande auprès \\nde SG 29 HAUSSMANN, 29 boulevard Haussmann, 75009 Paris.  \\nLa valeur d’actif nette du fonds est disponible sur : https://sg29haussmann.societegenerale.fr.\\nObjectif\\n \\n29 HAUSSMANN EQUILIBRE \\n FIA soumis au droit français \\n SG 29 HAUSSMANN (Groupe SOCIETE GENERALE) \\n FR0007040373 \\nhttps://sg29haussmann.societegenerale.fr. \\nAppelez le 01 58 98 89 11 pour de plus amples informations \\nL’Autorité des marchés financiers (AMF) est chargée du contrôle de SG 29 HAUSSMANN en ce qui concerne ce document d’informations clés. \\nSG 29 HAUSSMANN est agréée en France sous le n°GP-06000029 et réglementée par l’AMF. \\nDate de production du document d’informations clés\\xa0: 30/06/2023\\nProduit\")"
      ]
     },
     "execution_count": 3,
     "metadata": {},
     "output_type": "execute_result"
    }
   ],
   "source": [
    "documents[4]"
   ]
  },
  {
   "cell_type": "code",
   "execution_count": 4,
   "id": "c4239682-773b-4e0c-8316-f2f8cc4baadb",
   "metadata": {},
   "outputs": [
    {
     "name": "stdout",
     "output_type": "stream",
     "text": [
      "1721 chunks ont été créés par le splitter à partir du document PDF.\n"
     ]
    }
   ],
   "source": [
    "from langchain.text_splitter import RecursiveCharacterTextSplitter\n",
    "from langchain.docstore.document import Document\n",
    "\n",
    "# Initialisation du séparateur de texte avec des paramètres spécifiques pour diviser le texte\n",
    "text_splitter = RecursiveCharacterTextSplitter(\n",
    "    chunk_size=600,  # Taille maximale des morceaux de texte\n",
    "    chunk_overlap=60,  # Chevauchement entre les morceaux pour garder le contexte\n",
    "    length_function=len,  # Fonction pour calculer la longueur des morceaux\n",
    "    separators=[\"\\n\\n\", \"\\n\"]  # Séparateurs utilisés pour diviser le texte en morceaux\n",
    ")\n",
    "\n",
    "# Division du document en morceaux (chunks)\n",
    "chunks = text_splitter.split_documents(documents=documents)\n",
    "\n",
    "# Affichage du nombre de morceaux créés à partir du document PDF\n",
    "print(f\"{len(chunks)} chunks ont été créés par le splitter à partir du document PDF.\")"
   ]
  },
  {
   "cell_type": "code",
   "execution_count": 5,
   "id": "de5a45ea-130c-43ae-b658-5e3e0a915e5b",
   "metadata": {},
   "outputs": [
    {
     "data": {
      "text/plain": [
       "Document(metadata={'source': 'DIC/KIDPRIIPs_388409_51596_FRA_FRA_20231030.pdf', 'page': 1}, page_content='SCÉNARIOS DE PERFORMANCELes scénarios défavorable, intermédiaire et favorable présentés représentent des exemples utilisant les meilleure et pire performances, ainsi que laperformance moyenne du Compartiment au cours des 10\\xa0dernières années. Les marchés pourraient évoluer très diﬀéremment à l’avenir. Le scénario detensions montre ce que vous pourriez obtenir dans des situations de marché extrêmes.\\nCe que vous obtiendrez de ce produit dépend des performances futures du marché. L’évolution future du marché est aléatoire et ne peut êtreprédite avec précision.')"
      ]
     },
     "execution_count": 5,
     "metadata": {},
     "output_type": "execute_result"
    }
   ],
   "source": [
    "chunks[500]"
   ]
  },
  {
   "cell_type": "code",
   "execution_count": 6,
   "id": "fd3dc8ab-37c6-4a72-8bba-c0f1f5095885",
   "metadata": {},
   "outputs": [
    {
     "name": "stderr",
     "output_type": "stream",
     "text": [
      "/opt/conda/lib/python3.11/site-packages/scipy/__init__.py:155: UserWarning: A NumPy version >=1.18.5 and <1.26.0 is required for this version of SciPy (detected version 1.26.4\n",
      "  warnings.warn(f\"A NumPy version >={np_minversion} and <{np_maxversion}\"\n"
     ]
    }
   ],
   "source": [
    "from langchain_huggingface.embeddings import HuggingFaceEmbeddings\n",
    "\n",
    "# Charger le modèle d'encodage de texte BAAI/bge-small-en-v1.5 de HuggingFace\n",
    "embedding = HuggingFaceEmbeddings(model_name=\"BAAI/bge-m3\", encode_kwargs={\"normalize_embeddings\" : True})"
   ]
  },
  {
   "cell_type": "code",
   "execution_count": 7,
   "id": "93cbb9bf-a6ba-4bee-a2c0-66cbc2718b1e",
   "metadata": {},
   "outputs": [
    {
     "ename": "PineconeConfigurationError",
     "evalue": "You haven't specified an Api-Key.",
     "output_type": "error",
     "traceback": [
      "\u001b[0;31m---------------------------------------------------------------------------\u001b[0m",
      "\u001b[0;31mPineconeConfigurationError\u001b[0m                Traceback (most recent call last)",
      "Cell \u001b[0;32mIn[7], line 5\u001b[0m\n\u001b[1;32m      2\u001b[0m \u001b[38;5;28;01mfrom\u001b[39;00m \u001b[38;5;21;01mpinecone\u001b[39;00m\u001b[38;5;21;01m.\u001b[39;00m\u001b[38;5;21;01mexceptions\u001b[39;00m \u001b[38;5;28;01mimport\u001b[39;00m NotFoundException\n\u001b[1;32m      4\u001b[0m \u001b[38;5;66;03m# TODO: Inscrire la clé API Pinecone\u001b[39;00m\n\u001b[0;32m----> 5\u001b[0m pinecone \u001b[38;5;241m=\u001b[39m \u001b[43mPinecone\u001b[49m\u001b[43m(\u001b[49m\u001b[43mapi_key\u001b[49m\u001b[38;5;241;43m=\u001b[39;49m\u001b[43mpinecone_api_key\u001b[49m\u001b[43m)\u001b[49m\n\u001b[1;32m      7\u001b[0m \u001b[38;5;28;01mtry\u001b[39;00m:\n\u001b[1;32m      8\u001b[0m     pinecone\u001b[38;5;241m.\u001b[39mdescribe_index(\u001b[38;5;124m\"\u001b[39m\u001b[38;5;124mrag\u001b[39m\u001b[38;5;124m\"\u001b[39m)\n",
      "File \u001b[0;32m/opt/conda/lib/python3.11/site-packages/pinecone/control/pinecone.py:199\u001b[0m, in \u001b[0;36mPinecone.__init__\u001b[0;34m(self, api_key, host, proxy_url, proxy_headers, ssl_ca_certs, ssl_verify, config, additional_headers, pool_threads, index_api, **kwargs)\u001b[0m\n\u001b[1;32m    197\u001b[0m         \u001b[38;5;28mself\u001b[39m\u001b[38;5;241m.\u001b[39mconfig \u001b[38;5;241m=\u001b[39m config\n\u001b[1;32m    198\u001b[0m \u001b[38;5;28;01melse\u001b[39;00m:\n\u001b[0;32m--> 199\u001b[0m     \u001b[38;5;28mself\u001b[39m\u001b[38;5;241m.\u001b[39mconfig \u001b[38;5;241m=\u001b[39m \u001b[43mPineconeConfig\u001b[49m\u001b[38;5;241;43m.\u001b[39;49m\u001b[43mbuild\u001b[49m\u001b[43m(\u001b[49m\n\u001b[1;32m    200\u001b[0m \u001b[43m        \u001b[49m\u001b[43mapi_key\u001b[49m\u001b[38;5;241;43m=\u001b[39;49m\u001b[43mapi_key\u001b[49m\u001b[43m,\u001b[49m\n\u001b[1;32m    201\u001b[0m \u001b[43m        \u001b[49m\u001b[43mhost\u001b[49m\u001b[38;5;241;43m=\u001b[39;49m\u001b[43mhost\u001b[49m\u001b[43m,\u001b[49m\n\u001b[1;32m    202\u001b[0m \u001b[43m        \u001b[49m\u001b[43madditional_headers\u001b[49m\u001b[38;5;241;43m=\u001b[39;49m\u001b[43madditional_headers\u001b[49m\u001b[43m,\u001b[49m\n\u001b[1;32m    203\u001b[0m \u001b[43m        \u001b[49m\u001b[43mproxy_url\u001b[49m\u001b[38;5;241;43m=\u001b[39;49m\u001b[43mproxy_url\u001b[49m\u001b[43m,\u001b[49m\n\u001b[1;32m    204\u001b[0m \u001b[43m        \u001b[49m\u001b[43mproxy_headers\u001b[49m\u001b[38;5;241;43m=\u001b[39;49m\u001b[43mproxy_headers\u001b[49m\u001b[43m,\u001b[49m\n\u001b[1;32m    205\u001b[0m \u001b[43m        \u001b[49m\u001b[43mssl_ca_certs\u001b[49m\u001b[38;5;241;43m=\u001b[39;49m\u001b[43mssl_ca_certs\u001b[49m\u001b[43m,\u001b[49m\n\u001b[1;32m    206\u001b[0m \u001b[43m        \u001b[49m\u001b[43mssl_verify\u001b[49m\u001b[38;5;241;43m=\u001b[39;49m\u001b[43mssl_verify\u001b[49m\u001b[43m,\u001b[49m\n\u001b[1;32m    207\u001b[0m \u001b[43m        \u001b[49m\u001b[38;5;241;43m*\u001b[39;49m\u001b[38;5;241;43m*\u001b[39;49m\u001b[43mkwargs\u001b[49m\u001b[43m,\u001b[49m\n\u001b[1;32m    208\u001b[0m \u001b[43m    \u001b[49m\u001b[43m)\u001b[49m\n\u001b[1;32m    210\u001b[0m \u001b[38;5;28;01mif\u001b[39;00m kwargs\u001b[38;5;241m.\u001b[39mget(\u001b[38;5;124m\"\u001b[39m\u001b[38;5;124mopenapi_config\u001b[39m\u001b[38;5;124m\"\u001b[39m, \u001b[38;5;28;01mNone\u001b[39;00m):\n\u001b[1;32m    211\u001b[0m     \u001b[38;5;28;01mraise\u001b[39;00m \u001b[38;5;167;01mException\u001b[39;00m(\n\u001b[1;32m    212\u001b[0m         \u001b[38;5;124m\"\u001b[39m\u001b[38;5;124mPassing openapi_config is no longer supported. Please pass settings such as proxy_url, proxy_headers, ssl_ca_certs, and ssl_verify directly to the Pinecone constructor as keyword arguments. See the README at https://github.com/pinecone-io/pinecone-python-client for examples.\u001b[39m\u001b[38;5;124m\"\u001b[39m\n\u001b[1;32m    213\u001b[0m     )\n",
      "File \u001b[0;32m/opt/conda/lib/python3.11/site-packages/pinecone/config/pinecone_config.py:34\u001b[0m, in \u001b[0;36mPineconeConfig.build\u001b[0;34m(api_key, host, additional_headers, **kwargs)\u001b[0m\n\u001b[1;32m     31\u001b[0m     \u001b[38;5;28;01mexcept\u001b[39;00m \u001b[38;5;167;01mException\u001b[39;00m \u001b[38;5;28;01mas\u001b[39;00m e:\n\u001b[1;32m     32\u001b[0m         logger\u001b[38;5;241m.\u001b[39mwarn(\u001b[38;5;124mf\u001b[39m\u001b[38;5;124m\"\u001b[39m\u001b[38;5;124mIgnoring PINECONE_ADDITIONAL_HEADERS: \u001b[39m\u001b[38;5;132;01m{\u001b[39;00me\u001b[38;5;132;01m}\u001b[39;00m\u001b[38;5;124m\"\u001b[39m)\n\u001b[0;32m---> 34\u001b[0m \u001b[38;5;28;01mreturn\u001b[39;00m \u001b[43mConfigBuilder\u001b[49m\u001b[38;5;241;43m.\u001b[39;49m\u001b[43mbuild\u001b[49m\u001b[43m(\u001b[49m\n\u001b[1;32m     35\u001b[0m \u001b[43m    \u001b[49m\u001b[43mapi_key\u001b[49m\u001b[38;5;241;43m=\u001b[39;49m\u001b[43mapi_key\u001b[49m\u001b[43m,\u001b[49m\u001b[43m \u001b[49m\u001b[43mhost\u001b[49m\u001b[38;5;241;43m=\u001b[39;49m\u001b[43mhost\u001b[49m\u001b[43m,\u001b[49m\u001b[43m \u001b[49m\u001b[43madditional_headers\u001b[49m\u001b[38;5;241;43m=\u001b[39;49m\u001b[43madditional_headers\u001b[49m\u001b[43m,\u001b[49m\u001b[43m \u001b[49m\u001b[38;5;241;43m*\u001b[39;49m\u001b[38;5;241;43m*\u001b[39;49m\u001b[43mkwargs\u001b[49m\n\u001b[1;32m     36\u001b[0m \u001b[43m\u001b[49m\u001b[43m)\u001b[49m\n",
      "File \u001b[0;32m/opt/conda/lib/python3.11/site-packages/pinecone/config/config.py:56\u001b[0m, in \u001b[0;36mConfigBuilder.build\u001b[0;34m(api_key, host, proxy_url, proxy_headers, ssl_ca_certs, ssl_verify, additional_headers, **kwargs)\u001b[0m\n\u001b[1;32m     53\u001b[0m source_tag \u001b[38;5;241m=\u001b[39m kwargs\u001b[38;5;241m.\u001b[39mpop(SOURCE_TAG, \u001b[38;5;28;01mNone\u001b[39;00m)\n\u001b[1;32m     55\u001b[0m \u001b[38;5;28;01mif\u001b[39;00m \u001b[38;5;129;01mnot\u001b[39;00m api_key:\n\u001b[0;32m---> 56\u001b[0m     \u001b[38;5;28;01mraise\u001b[39;00m PineconeConfigurationError(\u001b[38;5;124m\"\u001b[39m\u001b[38;5;124mYou haven\u001b[39m\u001b[38;5;124m'\u001b[39m\u001b[38;5;124mt specified an Api-Key.\u001b[39m\u001b[38;5;124m\"\u001b[39m)\n\u001b[1;32m     57\u001b[0m \u001b[38;5;28;01mif\u001b[39;00m \u001b[38;5;129;01mnot\u001b[39;00m host:\n\u001b[1;32m     58\u001b[0m     \u001b[38;5;28;01mraise\u001b[39;00m PineconeConfigurationError(\u001b[38;5;124m\"\u001b[39m\u001b[38;5;124mYou haven\u001b[39m\u001b[38;5;124m'\u001b[39m\u001b[38;5;124mt specified a host.\u001b[39m\u001b[38;5;124m\"\u001b[39m)\n",
      "\u001b[0;31mPineconeConfigurationError\u001b[0m: You haven't specified an Api-Key."
     ]
    }
   ],
   "source": [
    "from pinecone import Pinecone, ServerlessSpec\n",
    "from pinecone.exceptions import NotFoundException\n",
    "\n",
    "# TODO: Inscrire la clé API Pinecone\n",
    "pinecone = Pinecone(api_key=pinecone_api_key)\n",
    "\n",
    "try:\n",
    "    pinecone.describe_index(\"rag\")\n",
    "except NotFoundException: \n",
    "    # Créer un index nommé \"rag\" de dimension 384\n",
    "    pinecone.create_index(\"rag\", dimension=1024, spec=ServerlessSpec(cloud=\"aws\", region=\"us-east-1\"))\n",
    "except Exception:\n",
    "    print(\"Une erreur inconnue est survenue !\")"
   ]
  },
  {
   "cell_type": "code",
   "execution_count": null,
   "id": "7240c655-2f3d-4b09-bf9b-31a56ae63338",
   "metadata": {},
   "outputs": [],
   "source": [
    "from langchain_pinecone.vectorstores import PineconeVectorStore\n",
    "\n",
    "# Initialiser le VectorStore de LlamaIndex avec l'index de Pinecone\n",
    "pinecone_index = pinecone.Index(\"rag\")\n",
    "vector_store = PineconeVectorStore(\n",
    "    index=pinecone_index,\n",
    "    embedding=embedding\n",
    ")"
   ]
  },
  {
   "cell_type": "code",
   "execution_count": null,
   "id": "22a5cfcd-331b-4f3a-b21b-56f75a82da64",
   "metadata": {},
   "outputs": [],
   "source": [
    "add_result = vector_store.add_documents(chunks)\n",
    "print(f\"{len(add_result)} vecteurs ont été ajoutés dans Pinecone.\")"
   ]
  },
  {
   "cell_type": "code",
   "execution_count": null,
   "id": "64259d94-d275-45d5-9d53-aee27933749b",
   "metadata": {},
   "outputs": [],
   "source": [
    "len(add_result)"
   ]
  }
 ],
 "metadata": {
  "kernelspec": {
   "display_name": "Python 3 (ipykernel)",
   "language": "python",
   "name": "python3"
  },
  "language_info": {
   "codemirror_mode": {
    "name": "ipython",
    "version": 3
   },
   "file_extension": ".py",
   "mimetype": "text/x-python",
   "name": "python",
   "nbconvert_exporter": "python",
   "pygments_lexer": "ipython3",
   "version": "3.11.10"
  }
 },
 "nbformat": 4,
 "nbformat_minor": 5
}
