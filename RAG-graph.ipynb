{
 "cells": [
  {
   "cell_type": "code",
   "execution_count": 12,
   "id": "41d35a38-006e-4297-b6fd-5cc4ae407718",
   "metadata": {},
   "outputs": [],
   "source": [
    "import glob\n",
    "import os"
   ]
  },
  {
   "cell_type": "code",
   "execution_count": 13,
   "id": "568581a6-f01f-45f1-91a2-20a6a6714c46",
   "metadata": {
    "scrolled": true
   },
   "outputs": [
    {
     "name": "stdout",
     "output_type": "stream",
     "text": [
      "175\n"
     ]
    }
   ],
   "source": [
    "from langchain_community.document_loaders import PyPDFDirectoryLoader\n",
    "from langchain.schema import Document\n",
    "import os\n",
    "\n",
    "\n",
    "loader = PyPDFDirectoryLoader(\"DIC\")\n",
    "documents = loader.load()\n",
    "\n",
    "print(len(documents))"
   ]
  },
  {
   "cell_type": "code",
   "execution_count": 14,
   "id": "8509cb4e-490a-40ac-a518-bdac9ce1da96",
   "metadata": {},
   "outputs": [],
   "source": [
    "from dotenv import load_dotenv; \n",
    "load_dotenv(); \n",
    "import os;\n",
    "pinecone_api_key = os.getenv('PINECONE_API_KEY')\n",
    "huggingface_api_key = os.getenv('HUGGINGFACE_API_KEY')\n"
   ]
  },
  {
   "cell_type": "code",
   "execution_count": 15,
   "id": "67835c36-7be8-4ece-8d88-34cbe303388e",
   "metadata": {},
   "outputs": [
    {
     "data": {
      "text/plain": [
       "64"
      ]
     },
     "execution_count": 15,
     "metadata": {},
     "output_type": "execute_result"
    }
   ],
   "source": [
    "len([f for f in os.listdir(\"./DIC/\")])"
   ]
  },
  {
   "cell_type": "code",
   "execution_count": 16,
   "id": "18c1df11-681b-4dcb-8166-9301070e8c88",
   "metadata": {},
   "outputs": [
    {
     "data": {
      "text/plain": [
       "Document(metadata={'source': 'DIC/FR0007040373_DIC_FR_20230630.pdf', 'page': 0}, page_content=\"DOCUMENT D’INFORMATIONS CLÉS \\nLe présent document contient des informations essentielles sur le produit d’investissement. Il ne s’agit pas d’un document à caractère commercial. \\nCes informations vous sont fournies conformément à une obligation légale, afin de vous aider à comprendre en quoi consiste ce p roduit et quels \\nrisques, coûts, gains et pertes potentiels y sont associés, et de vous aider à le comparer à d’autres produits.\\nEn quoi consiste ce produit ? \\nType : Fonds d'Investissement à Vocation Générale (FIVG) \\n \\nDurée\\n : Le Fonds est créé pour une durée de 99 ans. \\n \\nObjectifs\\n :   \\nL’objectif du FCP est, au travers d’une gestion discrétionnaire, la recherche d’une \\nperformance sur une durée de placement recommandée de 5 ans, en s’exposant aux \\nmarchés financiers français ou étrangers actions, obligations et autres titres de créances \\npar le biais d’investissements en titres en direct ou via des OPCVM ou FIA.  \\nLes décisions d’investissement intègrent à la fois des critères financiers et extra-financiers.  \\nLa prise en compte des critères de responsabilité environnementale, sociale et de \\ngouvernance de l’entreprise (ESG) dans la sélection de titres vise à évaluer la capacité des \\nentreprises à transformer les enjeux du développement durable en vecteurs de performance. \\nLa sélection des valeurs (présentée dans la stratégie d’investissement) conjugue recherche \\nde performance financière et prise en compte des enjeux de développement durable. \\nLes décisions d’investissement reposent ainsi sur une approche 360° combinant analyse \\nfinancière fondamentale et analyse extra-financière à travers la prise en compte des critères \\nESG (Environnement, Social, Gouvernance). SG 29 Haussmann a retenu une approche ISR \\nassociant exclusions sectorielles et intégration des critères ESG (Best-in-Class/Best-Effort). \\nSG 29 Haussmann a retenu une approche ISR associant exclusions sectorielles et intégration \\ndes critères ESG (Best-in-Class (sélection des entreprises les mieux notées au sein de leur \\nsecteur)/Best-Effort (sélection d’entreprises dont les pratiques et performances ESG \\ns’améliorent dans le temps)). \\nL’intégration des critères ESG a pour objectif de sélectionner les valeurs sur la base de leur \\ncomportement extra-financier (émissions carbone, santé, sécurité, rémunération \\nactionnariat…) et en particulier sur leur capacité à transformer les enjeux du développement \\ndurable en vecteurs de performance. \\nDans cette optique, seules les entreprises dont la note ESG est supérieure ou égale à B sur \\nune échelle de AAA à CCC (CCC étant le plus mauvaise) dans la nomenclature MSCI, sont \\néligibles à l’univers d’investissement. \\nDans le cadre de sa politique d’investissement, le FCP adopte une approche en amélioration \\nde note. \\nEn cas de dégradation d’un titre en portefeuille sous les seuils retenus dans la définition de \\nl’univers d’investissement (i.e. une note ESG strictement inférieure à B et/ou une note de \\ncontroverse rouge), le gérant privilégie par défaut une cession dans un délai raisonnable. \\nLe choix du timing de vente est apprécié en fonction des conditions et opportunités de \\nmarché afin de limiter l’impact sur la performance financière du FCP . \\nLes limites méthodologiques de l’approche en matière d’analyse ISR concernent notamment \\nla fiabilité des données extra-financières publiées par les entreprises ainsi que la \\nméthodologie d’analyse non exhaustive et subjective mise en place par la société de gestion \\ndans son approche « Best-in-Class » et « Best-Effort ».  \\nLe FCP dispose du Label ISR de l’Etat Français.  \\nLe portefeuille du FCP est composé : \\n-de 0% à 70% maximum de l’actif net en actions ou autres titres de capital internationaux \\nde toutes capitalisations (10% maximum de l’actif net en petites capitalisations). Les \\ninvestissements pourront porter sur toutes les zones géographiques et tous les secteurs \\néconomiques confondus. Le FCP pourra investir jusqu’à 10% maximum de son actif net sur \\nles marchés émergents. L’exposition aux marchés actions pourra varier entre 30% et 70% \\nmaximum de l’actif net par le biais d’investissements en titres directs et/ou via des OPC (ou \\nde fonds d’investissement étrangers) et instruments dérivés listés simples et complexes. \\n-de 0% à 70% maximum de l’actif net en obligations et autres titres de créances négociés sur \\nles marchés des pays appartenant à l’OCDE. Ces titres pourront être de toutes durations, \\nmaturités et zones géographiques confondues (y compris les pays émergents jusqu’à 10% \\nmaximum de l’actif net). Ces titres auront une notation minimale de BBB- (Standard and \\nPoor’s), ou à défaut une notation équivalente par une autre agence, ou jugée équivalente \\npar la société de gestion. La société de gestion s’appuie sur les notations externes et sur \\nson analyse pour évaluer la qualité de crédit des actifs obligataires. Sur ces bases, elle prend \\ndes décisions d’investissement à l’achat et en cours de vie. \\nLa répartition dette privée/dette publique n’est pas limitée et peut évoluer dans le temps.  \\nL’exposition aux marchés de taux pourra varier entre 0% et 70% maximum de l’actif net par \\nle biais d’investissements en titres directs et/ou via des OPC (ou de fonds d’investissement \\nétrangers) et instruments dérivés listés simples et complexes.  \\nToutefois, le FCP peut détenir à tout moment : \\n•dans une limite de 10% maximum de l’actif net du Fonds des obligations de qualité mais \\nnon notées. Les émissions non notées d’émetteurs notés (émissions convertibles par \\nexemple) sont reclassées dans le rating de l’émetteur, selon le rating de créance. \\n•et dans une limite de 15% maximum de l’actif net du Fonds des titres dits spéculatifs, de \\nnotation comprise entre BB+ et BB- (Standard & Poor’s) ou jugée équivalente par la société \\nde gestion. \\n•dans une limite de 5% maximum de l’actif net du Fonds des obligations dont la notation \\nest inférieure à BB- (ou jugée équivalente par des critères internes à la société de gestion) \\nsuite à une dégradation post-investissement. \\nAinsi, l’exposition aux titres spéculatifs pourra atteindre 30% maximum de l’actif net du FCP .  \\nLa fourchette de sensibilité de la partie taux sera comprise entre 0 et 10.  \\nLe FCP peut investir jusqu’à 10% maximum de son actif net en parts ou actions d’OPCVM \\nfrançais ou européens, FIA et fonds d’investissement de droit étranger respectant les critères \\nde l’article R214-13 du Code Monétaire et Financier. Ces OPCVM, FIA et fonds \\nd’investissement peuvent être gérés ou non par la société de gestion ou une société liée.  \\nLe FCP pourra intervenir sur des instruments financiers à terme négociés sur des marchés \\nréglementés, organisés ou de gré à gré dans une optique de couverture et/ou d’exposition \\ncontre les risques actions et de taux, et uniquement de couverture pour le risque de change, \\nsans rechercher de surexposition aux marchés.  \\nLe FCP pourra investir dans des titres intégrant des dérivés simples et complexes.  \\nL’investissement en Obligations Convertibles Contingentes (Coco’s) ne dépassera pas 10% \\nmaximum de l’actif net du FCP . Les Coco’s sont des obligations converties automatiquement \\nen actions à un prix déterminé, au moment où des critères de déclenchement (niveau des \\npertes, niveau dégradé du capital…) seront actionnés.  \\nLes titres non libellés en euro pourront faire éventuellement l’objet d’une couverture de \\nchange. \\nLe fonds pourra être exposé au risque de change à hauteur de 100% maximum de l’actif net.  \\nLes souscriptions et les rachats sont reçus et centralisés au plus tard à 18H30 le jour ouvré \\nprécédant la date d’établissement de la valeur liquidative sur la base de laquelle ils seront \\nexécutés auprès du dépositaire pour les parts au porteur à inscrire ou inscrites au sein \\nd’Euroclear France et s’agissant uniquement de parts d’investisseurs, personnes morales \\nagissant pour compte propre, auprès d’IZNES au plus tard à 18h pour les parts à inscrire ou \\ninscrites au nominatif au sein du Dispositif d’Enregistrement Electronique Partagé (DEEP).  \\n \\nValeur liquidative quotidienne\\n : La valeur liquidative est établie quotidiennement, sauf en \\ncas de jour férié légal en France et/ou en cas de fermeture de la Bourse de Paris.  \\nLe FCP réinvestit les sommes distribuables (revenu net et plus values nettes réalisées). \\n \\nType d’investisseurs visés \\n: Cette part de fonds est ouverte à tout souscripteur. Ce FCP ne peut \\nêtre souscrit par des « U.S. Persons » ou assimilés. \\n \\nRecommandation \\n: Ce FCP pourrait ne pas convenir aux investisseurs qui prévoient de retirer \\nleur apport dans les 5 ans. \\n \\nDépositaire \\n: Société Générale \\n \\nInformations complémentaires\\n : Vous pouvez obtenir de plus amples informations sur ce \\nFonds, y compris le prospectus et les rapports financiers, gratuitement sur demande auprès \\nde SG 29 HAUSSMANN, 29 boulevard Haussmann, 75009 Paris.  \\nLa valeur d’actif nette du fonds est disponible sur : https://sg29haussmann.societegenerale.fr.\\nObjectif\\n \\n29 HAUSSMANN EQUILIBRE \\n FIA soumis au droit français \\n SG 29 HAUSSMANN (Groupe SOCIETE GENERALE) \\n FR0007040373 \\nhttps://sg29haussmann.societegenerale.fr. \\nAppelez le 01 58 98 89 11 pour de plus amples informations \\nL’Autorité des marchés financiers (AMF) est chargée du contrôle de SG 29 HAUSSMANN en ce qui concerne ce document d’informations clés. \\nSG 29 HAUSSMANN est agréée en France sous le n°GP-06000029 et réglementée par l’AMF. \\nDate de production du document d’informations clés\\xa0: 30/06/2023\\nProduit\")"
      ]
     },
     "execution_count": 16,
     "metadata": {},
     "output_type": "execute_result"
    }
   ],
   "source": [
    "documents[4]"
   ]
  },
  {
   "cell_type": "code",
   "execution_count": 17,
   "id": "fd3dc8ab-37c6-4a72-8bba-c0f1f5095885",
   "metadata": {},
   "outputs": [],
   "source": [
    "from langchain_huggingface.embeddings import HuggingFaceEmbeddings\n",
    "from sentence_transformers import SentenceTransformer\n",
    "\n",
    "\n",
    "# Charger le modèle d'encodage de texte BAAI/bge-small-en-v1.5 de HuggingFace\n",
    "#embedding = HuggingFaceEmbeddings(model_name=\"BAAI/bge-m3\", encode_kwargs={\"normalize_embeddings\" : True})\n",
    "embedding = HuggingFaceEmbeddings(model_name=\"HIT-TMG/KaLM-embedding-multilingual-mini-instruct-v1\", encode_kwargs={\"normalize_embeddings\" : True})\n"
   ]
  },
  {
   "cell_type": "code",
   "execution_count": 18,
   "id": "c4239682-773b-4e0c-8316-f2f8cc4baadb",
   "metadata": {},
   "outputs": [
    {
     "name": "stdout",
     "output_type": "stream",
     "text": [
      "534 chunks ont été créés par le splitter à partir du document PDF.\n"
     ]
    }
   ],
   "source": [
    "from langchain.text_splitter import RecursiveCharacterTextSplitter\n",
    "from langchain.docstore.document import Document\n",
    "from langchain_experimental.text_splitter import SemanticChunker\n",
    "\n",
    "\n",
    "text_splitter = SemanticChunker(embedding)\n",
    "\n",
    "# Division du document en morceaux (chunks)\n",
    "chunks = text_splitter.split_documents(documents=documents)\n",
    "\n",
    "# Affichage du nombre de morceaux créés à partir du document PDF\n",
    "print(f\"{len(chunks)} chunks ont été créés par le splitter à partir du document PDF.\")"
   ]
  },
  {
   "cell_type": "code",
   "execution_count": 19,
   "id": "de5a45ea-130c-43ae-b658-5e3e0a915e5b",
   "metadata": {},
   "outputs": [
    {
     "data": {
      "text/plain": [
       "Document(metadata={'source': 'DIC/fidelity.pdf', 'page': 1}, page_content=\"Des informations sur l es références \\nantérieures figurent dans le rapport et les comptes  annuels. 12.2 \\n22.8 \\n33.8 \\n21.5 19.8 19.4 \\n0.5 \\n46.5 \\n32.3 31.5 \\n13.6 \\n21.1 \\n31.2 \\n15.0 15.6 \\n24.5 \\n-1.1 \\n49.6 \\n33.6 37.0 \\n-10% \\n0% \\n10% \\n20% \\n30% \\n40% \\n50% \\n60% \\n2012 2013 2014 2015 2016 2017 2018 2019 2020 2021 \\nLes frais d'entrée et de sortie communiqués sont de s chiffres maximum. Dans \\ncertains cas, vous pouvez être amené à payer moins.\")"
      ]
     },
     "execution_count": 19,
     "metadata": {},
     "output_type": "execute_result"
    }
   ],
   "source": [
    "chunks[500]"
   ]
  },
  {
   "cell_type": "code",
   "execution_count": 20,
   "id": "93cbb9bf-a6ba-4bee-a2c0-66cbc2718b1e",
   "metadata": {},
   "outputs": [],
   "source": [
    "from pinecone import Pinecone, ServerlessSpec\n",
    "from pinecone.exceptions import NotFoundException\n",
    "\n",
    "# TODO: Inscrire la clé API Pinecone\n",
    "pinecone = Pinecone(api_key=pinecone_api_key)\n",
    "\n",
    "pinecone.delete_index(\"rag\")\n",
    "pinecone.create_index(\"rag\", dimension=896, spec=ServerlessSpec(cloud=\"aws\", region=\"us-east-1\"))\n"
   ]
  },
  {
   "cell_type": "code",
   "execution_count": 21,
   "id": "7240c655-2f3d-4b09-bf9b-31a56ae63338",
   "metadata": {},
   "outputs": [],
   "source": [
    "from langchain_pinecone.vectorstores import PineconeVectorStore\n",
    "from pinecone import Pinecone, ServerlessSpec\n",
    "\n",
    "\n",
    "pinecone = Pinecone(api_key=pinecone_api_key)\n",
    "\n",
    "\n",
    "# Initialiser le VectorStore de LlamaIndex avec l'index de Pinecone\n",
    "pinecone_index = pinecone.Index(\"rag\")\n",
    "vector_store = PineconeVectorStore(\n",
    "    index=pinecone_index,\n",
    "    embedding=embedding\n",
    ")"
   ]
  },
  {
   "cell_type": "code",
   "execution_count": 22,
   "id": "22a5cfcd-331b-4f3a-b21b-56f75a82da64",
   "metadata": {
    "scrolled": true
   },
   "outputs": [
    {
     "name": "stdout",
     "output_type": "stream",
     "text": [
      "Original number of chunks: 534\n",
      "Number of chunks after cleaning: 529\n",
      "529 vecteurs ont été ajoutés dans Pinecone.\n"
     ]
    }
   ],
   "source": [
    "#add_result = vector_store.add_documents(chunks)\n",
    "# 1. Filter the list to remove invalid documents\n",
    "print(f\"Original number of chunks: {len(chunks)}\")\n",
    "cleaned_chunks = [doc for doc in chunks if doc.page_content.strip()]\n",
    "print(f\"Number of chunks after cleaning: {len(cleaned_chunks)}\")\n",
    "\n",
    "# 2. Add only the valid, cleaned documents to the vector store\n",
    "if cleaned_chunks:\n",
    "    add_result = vector_store.add_documents(cleaned_chunks)\n",
    "else:\n",
    "    print(\"No valid chunks to add after cleaning.\")\n",
    "print(f\"{len(add_result)} vecteurs ont été ajoutés dans Pinecone.\")"
   ]
  },
  {
   "cell_type": "code",
   "execution_count": 23,
   "id": "64259d94-d275-45d5-9d53-aee27933749b",
   "metadata": {},
   "outputs": [
    {
     "data": {
      "text/plain": [
       "529"
      ]
     },
     "execution_count": 23,
     "metadata": {},
     "output_type": "execute_result"
    }
   ],
   "source": [
    "len(add_result)"
   ]
  },
  {
   "cell_type": "code",
   "execution_count": 24,
   "id": "13bb3974-957c-4c61-bf77-bb724dd40bac",
   "metadata": {
    "scrolled": true
   },
   "outputs": [
    {
     "name": "stderr",
     "output_type": "stream",
     "text": [
      "huggingface/tokenizers: The current process just got forked, after parallelism has already been used. Disabling parallelism to avoid deadlocks...\n",
      "To disable this warning, you can either:\n",
      "\t- Avoid using `tokenizers` before the fork if possible\n",
      "\t- Explicitly set the environment variable TOKENIZERS_PARALLELISM=(true | false)\n"
     ]
    },
    {
     "name": "stdout",
     "output_type": "stream",
     "text": [
      "The token has not been saved to the git credentials helper. Pass `add_to_git_credential=True` in this function directly or `--add-to-git-credential` if using via `huggingface-cli` if you want to set the git credential as well.\n",
      "Token is valid (permission: read).\n",
      "Your token has been saved to /root/.cache/huggingface/token\n",
      "Login successful\n"
     ]
    }
   ],
   "source": [
    "!huggingface-cli login --token={huggingface_api_key}"
   ]
  },
  {
   "cell_type": "code",
   "execution_count": 25,
   "id": "20fb4cfa-3c78-44ed-953a-02748d459d66",
   "metadata": {},
   "outputs": [
    {
     "name": "stderr",
     "output_type": "stream",
     "text": [
      "`flash-attention` package not found, consider installing for better performance: No module named 'flash_attn'.\n",
      "Current `flash-attention` does not support `window_size`. Either upgrade or use `attn_implementation='eager'`.\n"
     ]
    },
    {
     "data": {
      "application/vnd.jupyter.widget-view+json": {
       "model_id": "b1d49ae6090d4991bdd1f96d994d44f7",
       "version_major": 2,
       "version_minor": 0
      },
      "text/plain": [
       "Loading checkpoint shards:   0%|          | 0/2 [00:00<?, ?it/s]"
      ]
     },
     "metadata": {},
     "output_type": "display_data"
    }
   ],
   "source": [
    "import transformers\n",
    "import torch\n",
    "\n",
    "from transformers import BitsAndBytesConfig\n",
    "\n",
    "model_id = \"microsoft/Phi-3-mini-4k-instruct\"\n",
    "#model_id = \"curiousily/Llama-3-8B-Instruct-Finance-RAG\"\n",
    "\n",
    "\n",
    "# Chargement de la configuration du modèle\n",
    "\n",
    "# Initialiser le tokeniseur\n",
    "tokenizer = transformers.AutoTokenizer.from_pretrained(model_id)\n",
    "\n",
    "model = transformers.AutoModelForCausalLM.from_pretrained(\n",
    "    model_id,\n",
    "    trust_remote_code=True,\n",
    "    device_map='auto'\n",
    ")"
   ]
  },
  {
   "cell_type": "code",
   "execution_count": 26,
   "id": "39cad646-f662-41b2-adef-9e74915cec95",
   "metadata": {},
   "outputs": [],
   "source": [
    "from langchain_huggingface.llms import HuggingFacePipeline\n",
    "\n",
    "from transformers import pipeline\n",
    "\n",
    "llm=HuggingFacePipeline(\n",
    "    pipeline=pipeline(\n",
    "        \"text-generation\",\n",
    "        model=model,\n",
    "        tokenizer=tokenizer,\n",
    "        max_new_tokens=512,\n",
    "        temperature=0.7,\n",
    "        top_p=0.9,\n",
    "        truncation=True\n",
    "    )\n",
    ")"
   ]
  },
  {
   "cell_type": "code",
   "execution_count": null,
   "id": "b52d69db-4216-48a7-9d9b-d372a79c98f7",
   "metadata": {
    "scrolled": true
   },
   "outputs": [],
   "source": [
    "from langchain_google_genai import ChatGoogleGenerativeAI\n",
    "from langchain_experimental.graph_transformers import LLMGraphTransformer\n",
    "\n",
    "os.environ[\"GOOGLE_API_KEY\"] = os.getenv('GOOGLE_API_KEY')\n",
    "\n",
    "llm = ChatGoogleGenerativeAI(\n",
    "    model=\"gemini-2.5-flash\",   # ou \"gemini-1.5-flash\" si tu veux aller plus vite\n",
    "    temperature=0.0\n",
    ")\n",
    "\n",
    "kg_transformer = LLMGraphTransformer(llm=llm)\n",
    "graph_docs = kg_transformer.convert_to_graph_documents(cleaned_chunks)"
   ]
  },
  {
   "cell_type": "code",
   "execution_count": null,
   "id": "a8f79583-9152-44b8-9b81-c2a89cb1dce7",
   "metadata": {},
   "outputs": [],
   "source": [
    "import networkx as nx\n",
    "G = nx.MultiDiGraph()\n",
    "\n",
    "for gdoc in graph_docs:\n",
    "    for rel in gdoc.relationships:\n",
    "        src = rel.source\n",
    "        dst = rel.target\n",
    "        G.add_edge(src.id, dst.id, label=rel.type)"
   ]
  },
  {
   "cell_type": "code",
   "execution_count": null,
   "id": "725d47d5-b40d-4abb-99a4-475017ecbeb2",
   "metadata": {},
   "outputs": [],
   "source": [
    "def query_graph(G, question, k_hops=2, max_edges=50):\n",
    "    # 1. repérage des entités probables dans la question\n",
    "    terms = [t.lower() for t in question.split() if len(t) > 3]\n",
    "    matched_nodes = [n for n in G.nodes if any(t in str(n).lower() for t in terms)]\n",
    "\n",
    "    sub_edges = set()\n",
    "    for node in matched_nodes:\n",
    "        # explore les voisins proches\n",
    "        for src, dst, data in nx.bfs_edges(G, node, depth_limit=k_hops):\n",
    "            sub_edges.add((src, dst, data.get(\"label\", \"RELATED\")))\n",
    "\n",
    "    # tronquer pour éviter explosion\n",
    "    sub_edges = list(sub_edges)[:max_edges]\n",
    "\n",
    "    # transformer en texte “triples” utilisables par le LLM\n",
    "    triples_text = \"\\n\".join([f\"({s}) -[{r}]-> ({d})\" for s, d, r in sub_edges])\n",
    "    return triples_text\n"
   ]
  },
  {
   "cell_type": "code",
   "execution_count": null,
   "id": "17fe1bd3-4bc1-4834-80f8-eb0c48c3eb0e",
   "metadata": {},
   "outputs": [],
   "source": [
    "def query_vectorstore(vectorstore, question, k=5):\n",
    "    docs = vectorstore.similarity_search(question, k=k)\n",
    "    return \"\\n\\n\".join(d.page_content for d in docs)\n"
   ]
  },
  {
   "cell_type": "code",
   "execution_count": null,
   "id": "6c42f037-090e-4901-95ec-80b99b81965b",
   "metadata": {},
   "outputs": [],
   "source": [
    "def build_context(G, vectorstore, question):\n",
    "    graph_context = query_graph(G, question)\n",
    "    vector_context = query_vectorstore(vectorstore, question)\n",
    "    return f\"\"\"\n",
    "=== CONTEXTE GRAPHE ===\n",
    "{graph_context}\n",
    "\n",
    "=== CONTEXTE TEXTE ===\n",
    "{vector_context}\n",
    "\"\"\"\n"
   ]
  },
  {
   "cell_type": "code",
   "execution_count": null,
   "id": "5f8c2652-e298-4d22-87f2-9013a9126bb9",
   "metadata": {},
   "outputs": [],
   "source": [
    "import torch\n",
    "\n",
    "def answer_with_hybrid_rag(G, vectorstore, question, model, tokenizer, max_new_tokens=512):\n",
    "    context = build_context(G, vectorstore, question)\n",
    "\n",
    "    prompt = f\"\"\"\n",
    "Tu es un assistant RAG hybride.\n",
    "Contexte provenant d'un graphe de connaissances et d'une recherche vectorielle :\n",
    "{context}\n",
    "\n",
    "Question : {question}\n",
    "Réponds en une phrase de manière factuelle et concise en t’appuyant uniquement sur ces éléments.\n",
    "\"\"\"\n",
    "\n",
    "    inputs = tokenizer(prompt, return_tensors=\"pt\").to(model.device)\n",
    "\n",
    "    with torch.no_grad():\n",
    "        outputs = model.generate(\n",
    "            **inputs,\n",
    "            max_new_tokens=max_new_tokens,\n",
    "            temperature=0.2,\n",
    "            do_sample=False\n",
    "        )\n",
    "\n",
    "    answer = tokenizer.decode(outputs[0], skip_special_tokens=True)\n",
    "    return answer\n",
    "\n"
   ]
  },
  {
   "cell_type": "code",
   "execution_count": 7,
   "id": "750f34d3-16a9-4beb-84b4-e3f720f44fec",
   "metadata": {},
   "outputs": [
    {
     "ename": "NameError",
     "evalue": "name 'G' is not defined",
     "output_type": "error",
     "traceback": [
      "\u001b[0;31m---------------------------------------------------------------------------\u001b[0m",
      "\u001b[0;31mNameError\u001b[0m                                 Traceback (most recent call last)",
      "Cell \u001b[0;32mIn[7], line 2\u001b[0m\n\u001b[1;32m      1\u001b[0m \u001b[38;5;66;03m# Exemple\u001b[39;00m\n\u001b[0;32m----> 2\u001b[0m response \u001b[38;5;241m=\u001b[39m answer_with_hybrid_rag(\u001b[43mG\u001b[49m, vector_store, \u001b[38;5;124m\"\u001b[39m\u001b[38;5;124mA quoi vise la prise en compte des critères ESG dans la sélection de titres du FCP?\u001b[39m\u001b[38;5;124m\"\u001b[39m, model, tokenizer)\n\u001b[1;32m      3\u001b[0m \u001b[38;5;28mprint\u001b[39m(response)\n",
      "\u001b[0;31mNameError\u001b[0m: name 'G' is not defined"
     ]
    }
   ],
   "source": [
    "# Exemple\n",
    "response = answer_with_hybrid_rag(G, vector_store, \"A quoi vise la prise en compte des critères ESG dans la sélection de titres du FCP?\", model, tokenizer)\n",
    "print(response)\n"
   ]
  },
  {
   "cell_type": "code",
   "execution_count": 21,
   "id": "06ac7415-7203-4557-887f-fdc297f86f71",
   "metadata": {},
   "outputs": [],
   "source": [
    "from langchain_core.prompts import PromptTemplate\n",
    "\n",
    "prompt_template = PromptTemplate.from_template(\"\"\"Provide a short and precise answer to the following question, based solely on the information from the documents below:\n",
    "\n",
    "---------------------\n",
    "{context}\n",
    "---------------------\n",
    "\n",
    "Use the information in these documents to answer the question in a factual and concise manner. If the answer to the question is not contained within these documents, respond simply with \"Unknown\":\n",
    "\n",
    "Question: {question}\"\"\")\n",
    "\n",
    "def build_context(docs):\n",
    "    context = \"\"\n",
    "    for doc in docs:\n",
    "        context += \"titre du document :\" + doc.metadata[\"source\"]\n",
    "        context += \"\\n\"\n",
    "        context += doc.page_content\n",
    "        context += \"\\n\\n\"\n",
    "    print(context)\n",
    "        \n",
    "def rag_pipeline(query):\n",
    "    # Tout d'abord, on recherche les documents\n",
    "    retrieved_docs = vector_store.similarity_search(query)\n",
    "    # Ensuite, on injecte les documents dans le prompt\n",
    "    prompt = prompt_template.invoke({\n",
    "        \"question\": query,\n",
    "        \"context\": build_context(retrieved_docs)\n",
    "    })\n",
    "    # Enfin, on envoit l'intégralité du prompt au LLM\n",
    "    print(build_context(retrieved_docs))\n",
    "    return llm.invoke(prompt).strip()"
   ]
  },
  {
   "cell_type": "code",
   "execution_count": null,
   "id": "c1d7eb42-9862-4220-bc94-3699e9925ad5",
   "metadata": {},
   "outputs": [],
   "source": []
  },
  {
   "cell_type": "code",
   "execution_count": 23,
   "id": "89b4b752-9bbd-4db7-95af-a85aaa6b2373",
   "metadata": {},
   "outputs": [
    {
     "name": "stderr",
     "output_type": "stream",
     "text": [
      "Setting `pad_token_id` to `eos_token_id`:None for open-end generation.\n"
     ]
    },
    {
     "name": "stdout",
     "output_type": "stream",
     "text": [
      "titre du document :DIC/KIDPRIIPs_448092_79629_FRA_FRA_20240101.pdf\n",
      "» pour plus de détails sur les frais de sortie. Comment puis-je formuler une réclamation ?Si vous avez des réclamations, vous pouvez :Appeler notre hotline dédiée aux réclamations au +352 2686 8001Envoyer un courrier à Amundi Luxembourg S.A., Service clients, 5 allée Scheﬀer, 2520 Luxembourg, LuxembourgEnvoyer un e-mail à info@amundi.com Dans le cas d’une réclamation, vous devez indiquer clairement vos coordonnées (nom, adresse, numéro de téléphone ou adresse e-mail) et fournir unebrève explication de votre réclamation. Vous trouverez davantage d’informations sur notre site Internet www.amundi.lu.\n",
      "\n",
      "titre du document :DIC/KIDPRIIPs_447577_79682_FRA_FRA_20240101.pdf\n",
      "» pour plus de détails sur les frais de sortie. Comment puis-je formuler une réclamation ?Si vous avez des réclamations, vous pouvez :Appeler notre hotline dédiée aux réclamations au +352 2686 8001Envoyer un courrier à Amundi Luxembourg S.A., Service clients, 5 allée Scheﬀer, 2520 Luxembourg, LuxembourgEnvoyer un e-mail à info@amundi.com Dans le cas d’une réclamation, vous devez indiquer clairement vos coordonnées (nom, adresse, numéro de téléphone ou adresse e-mail) et fournir unebrève explication de votre réclamation. Vous trouverez davantage d’informations sur notre site Internet www.amundi.lu.\n",
      "\n",
      "titre du document :DIC/KIDPRIIPs_448123_79630_FRA_FRA_20240101.pdf\n",
      "» pour plus de détails sur les frais de sortie. Comment puis-je formuler une réclamation ?Si vous avez des réclamations, vous pouvez :Appeler notre hotline dédiée aux réclamations au +352 2686 8001Envoyer un courrier à Amundi Luxembourg S.A., Service clients, 5 allée Scheﬀer, 2520 Luxembourg, LuxembourgEnvoyer un e-mail à info@amundi.com Dans le cas d’une réclamation, vous devez indiquer clairement vos coordonnées (nom, adresse, numéro de téléphone ou adresse e-mail) et fournir unebrève explication de votre réclamation. Vous trouverez davantage d’informations sur notre site Internet www.amundi.lu.\n",
      "\n",
      "titre du document :DIC/KIDPRIIPs_447560_79681_FRA_FRA_20240101.pdf\n",
      "» pour plus de détails sur les frais de sortie. Comment puis-je formuler une réclamation ?Si vous avez des réclamations, vous pouvez :Appeler notre hotline dédiée aux réclamations au +352 2686 8001Envoyer un courrier à Amundi Luxembourg S.A., Service clients, 5 allée Scheﬀer, 2520 Luxembourg, LuxembourgEnvoyer un e-mail à info@amundi.com Dans le cas d’une réclamation, vous devez indiquer clairement vos coordonnées (nom, adresse, numéro de téléphone ou adresse e-mail) et fournir unebrève explication de votre réclamation. Vous trouverez davantage d’informations sur notre site Internet www.amundi.lu.\n",
      "\n",
      "\n",
      "titre du document :DIC/KIDPRIIPs_448092_79629_FRA_FRA_20240101.pdf\n",
      "» pour plus de détails sur les frais de sortie. Comment puis-je formuler une réclamation ?Si vous avez des réclamations, vous pouvez :Appeler notre hotline dédiée aux réclamations au +352 2686 8001Envoyer un courrier à Amundi Luxembourg S.A., Service clients, 5 allée Scheﬀer, 2520 Luxembourg, LuxembourgEnvoyer un e-mail à info@amundi.com Dans le cas d’une réclamation, vous devez indiquer clairement vos coordonnées (nom, adresse, numéro de téléphone ou adresse e-mail) et fournir unebrève explication de votre réclamation. Vous trouverez davantage d’informations sur notre site Internet www.amundi.lu.\n",
      "\n",
      "titre du document :DIC/KIDPRIIPs_447577_79682_FRA_FRA_20240101.pdf\n",
      "» pour plus de détails sur les frais de sortie. Comment puis-je formuler une réclamation ?Si vous avez des réclamations, vous pouvez :Appeler notre hotline dédiée aux réclamations au +352 2686 8001Envoyer un courrier à Amundi Luxembourg S.A., Service clients, 5 allée Scheﬀer, 2520 Luxembourg, LuxembourgEnvoyer un e-mail à info@amundi.com Dans le cas d’une réclamation, vous devez indiquer clairement vos coordonnées (nom, adresse, numéro de téléphone ou adresse e-mail) et fournir unebrève explication de votre réclamation. Vous trouverez davantage d’informations sur notre site Internet www.amundi.lu.\n",
      "\n",
      "titre du document :DIC/KIDPRIIPs_448123_79630_FRA_FRA_20240101.pdf\n",
      "» pour plus de détails sur les frais de sortie. Comment puis-je formuler une réclamation ?Si vous avez des réclamations, vous pouvez :Appeler notre hotline dédiée aux réclamations au +352 2686 8001Envoyer un courrier à Amundi Luxembourg S.A., Service clients, 5 allée Scheﬀer, 2520 Luxembourg, LuxembourgEnvoyer un e-mail à info@amundi.com Dans le cas d’une réclamation, vous devez indiquer clairement vos coordonnées (nom, adresse, numéro de téléphone ou adresse e-mail) et fournir unebrève explication de votre réclamation. Vous trouverez davantage d’informations sur notre site Internet www.amundi.lu.\n",
      "\n",
      "titre du document :DIC/KIDPRIIPs_447560_79681_FRA_FRA_20240101.pdf\n",
      "» pour plus de détails sur les frais de sortie. Comment puis-je formuler une réclamation ?Si vous avez des réclamations, vous pouvez :Appeler notre hotline dédiée aux réclamations au +352 2686 8001Envoyer un courrier à Amundi Luxembourg S.A., Service clients, 5 allée Scheﬀer, 2520 Luxembourg, LuxembourgEnvoyer un e-mail à info@amundi.com Dans le cas d’une réclamation, vous devez indiquer clairement vos coordonnées (nom, adresse, numéro de téléphone ou adresse e-mail) et fournir unebrève explication de votre réclamation. Vous trouverez davantage d’informations sur notre site Internet www.amundi.lu.\n",
      "\n",
      "\n",
      "None\n",
      "Answer:\n",
      "Unknown (The documents provided do not contain information about making a complaint.)\n"
     ]
    }
   ],
   "source": [
    "query = \"\"\"\n",
    "Comment puis-je formuler une réclamation?\n",
    "\"\"\"\n",
    "\n",
    "# Effectuer une requête\n",
    "response = rag_pipeline(query)\n",
    "print(response)"
   ]
  },
  {
   "cell_type": "markdown",
   "id": "4c7dc099-ca64-47e9-89d1-b0bfce3b4f2e",
   "metadata": {},
   "source": [
    "# TO DO\n",
    "\n",
    "### Eval\n",
    "### Modifier le modele d'Embedding\n",
    "### reprompt de la requete utilisateur\n",
    "### Algo de retrieval , recherche hybride ou mot clefs (VM 25)\n",
    "\n",
    "### Graph Rag\n",
    "https://microsoft.github.io/graphrag/\n",
    "### fabrication d'arbre de connaissance en cluster\n",
    "https://github.com/parthsarthi03/raptor"
   ]
  },
  {
   "cell_type": "code",
   "execution_count": null,
   "id": "b51d3b0f-02e4-4f87-b66f-4ae5f02a4854",
   "metadata": {},
   "outputs": [],
   "source": []
  },
  {
   "cell_type": "code",
   "execution_count": null,
   "id": "ba8326c5-dd29-4af8-a028-d1cf83f4e270",
   "metadata": {},
   "outputs": [],
   "source": []
  }
 ],
 "metadata": {
  "kernelspec": {
   "display_name": "Python 3 (ipykernel)",
   "language": "python",
   "name": "python3"
  },
  "language_info": {
   "codemirror_mode": {
    "name": "ipython",
    "version": 3
   },
   "file_extension": ".py",
   "mimetype": "text/x-python",
   "name": "python",
   "nbconvert_exporter": "python",
   "pygments_lexer": "ipython3",
   "version": "3.11.10"
  }
 },
 "nbformat": 4,
 "nbformat_minor": 5
}
