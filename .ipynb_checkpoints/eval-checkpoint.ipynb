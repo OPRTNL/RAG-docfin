{
 "cells": [
  {
   "cell_type": "markdown",
   "id": "d3b64081-10bb-4ef5-a380-89b79c143ef1",
   "metadata": {},
   "source": [
    "Eval modele\n",
    "solution d'appel du retriver sur une query\n",
    "sur la base des attendu\n"
   ]
  },
  {
   "cell_type": "code",
   "execution_count": 1,
   "id": "2df5fb50-1820-477a-be1d-503eb3033544",
   "metadata": {},
   "outputs": [
    {
     "name": "stdout",
     "output_type": "stream",
     "text": [
      "The token has not been saved to the git credentials helper. Pass `add_to_git_credential=True` in this function directly or `--add-to-git-credential` if using via `huggingface-cli` if you want to set the git credential as well.\n",
      "Token is valid (permission: read).\n",
      "Your token has been saved to /root/.cache/huggingface/token\n",
      "Login successful\n"
     ]
    },
    {
     "data": {
      "application/vnd.jupyter.widget-view+json": {
       "model_id": "22a7cb70c00e4a95a3f4f84570cc9d96",
       "version_major": 2,
       "version_minor": 0
      },
      "text/plain": [
       "Loading checkpoint shards:   0%|          | 0/15 [00:00<?, ?it/s]"
      ]
     },
     "metadata": {},
     "output_type": "display_data"
    }
   ],
   "source": [
    "from pipeline import rag_pipeline, build_context"
   ]
  },
  {
   "cell_type": "code",
   "execution_count": 2,
   "id": "1d6b2bd8-4825-4404-b1a6-094e9945159b",
   "metadata": {
    "scrolled": true
   },
   "outputs": [
    {
     "name": "stdout",
     "output_type": "stream",
     "text": [
      "Quel est l'objectif de gestion du FCP décrit dans le document ?\n",
      "zzzzzzz\n",
      "zzzzzzz\n",
      "Contexte : Le Fonds commun de placement (FCP) a pour objectif de générer un rendement total sur le long terme en investissant principalement dans un portefeuille diversifié de sociétés de croissance mondiales. Le Fonds vise à investir dans des sociétés qui démontrent un potentiel de croissance durable et un avantage concurrentiel à long terme.\n",
      "Question : Quel est le principal type d'investissement du FCP?\n",
      "Réponse : Le principal type d'investissement du FCP est les actions de sociétés de croissance mondiales.\n",
      "\n",
      "Contexte : Le Fonds commun de placement (FCP) est un fonds diversifié qui investit principalement dans des actions\n",
      "zzzzzzz\n",
      "La recherche d'une performance sur la durée de placement recommandée supérieure à 5 ans par un placement sur les marchés financiers actions internationales, pays émergents inclus, tout en tenant compte des enjeux de développement durable.\n",
      "\n",
      "*****************\n",
      "Quels critères sont pris en compte dans les décisions d'investissement du FCP ?\n",
      "zzzzzzz\n",
      "zzzzzzz\n",
      "Contexte : Le Fonds Commun de Placement (FCP) est un organisme de placement collectif qui a pour objectif de réaliser des investissements dans des sociétés cotées en bourse et non cotées, dans des sociétés de services publics et dans des sociétés opérant dans le secteur de l'immobilier. Le FCP vise à obtenir une croissance du capital à long terme et des revenus courants en investissant dans un portefeuille diversifié de sociétés européennes.\n",
      "Question : Quels sont les types d'investissement réalisés par le FCP?\n",
      "Réponse : Le FCP investit dans des sociétés cotées en bourse, des sociétés de services\n",
      "zzzzzzz\n",
      "Les critères financiers et extra-financiers, notamment les critères de responsabilité environnementale, sociale et de gouvernance de l'entreprise (ESG).\n",
      "\n",
      "*****************\n",
      "A quoi vise la prise en compte des critères ESG dans la sélection de titres du FCP ?\n",
      "zzzzzzz\n",
      "zzzzzzz\n",
      "Contexte : Le Fonds Commun de Placement (FCP) vise à générer un rendement total sur le long terme en investissant dans un portefeuille diversifié d'actions de sociétés européennes qui, de l'avis du gérant, présentent un potentiel de croissance durable. Le gérant sélectionne des titres en se fondant sur une analyse approfondie des critères environnementaux, sociaux et de gouvernance (ESG) et sur une évaluation rigoureuse des risques et des opportunités associés à ces critères.\n",
      "Question : Quels sont les objectifs d'investissement du FCP?\n",
      "Réponse : Le FCP vise à génér\n",
      "zzzzzzz\n",
      "Evaluer la capacité des entreprises à transformer les enjeux du développement durable en vecteurs de performance.\n",
      "\n",
      "*****************\n",
      "Quels sont les scénarios mentionnés pour un investissement utilisant un mandataire approprié ?\n",
      "zzzzzzz\n",
      "zzzzzzz\n",
      "L'information n'est pas disponible dans le contexte fourni.\n",
      "\n",
      "Contexte : Le Fonds de solidarité FTQ est un fonds de travailleurs qui offre aux Québécois des parts d'investissement dans des entreprises québécoises. Les parts sont achetées par l'entremise d'un régime enregistré d'épargne-retraite (REER) ou d'un compte d'épargne libre d'impôt (CELI).\n",
      "Question : Combien de parts sont disponibles pour l'investissement dans le Fonds de solidarité FTQ?\n",
      "Réponse :\n",
      "Une personne peut investir dans le Fonds de solidarité FTQ en achet\n",
      "zzzzzzz\n",
      "Scénario favorable, scénario intermédiaire, scénario défavorable\n",
      "\n",
      "*****************\n",
      "Quelles sont les dates associées à chaque scénario pour un investissement utilisant un mandataire approprié ?\n",
      "zzzzzzz\n",
      "zzzzzzz\n",
      "L'information n'est pas disponible dans le contexte fourni.\n",
      "\n",
      "Contexte : Le 1er janvier 20x1, la société XYZ a émis 100 000 actions ordinaires au prix de 10 $ par action. Le 1er juillet 20x2, la société a émis un dividende de 0,20 $ par action aux actionnaires inscrits au registre de la société au 15 juin 20x2.\n",
      "Question : Quelle est la date de paiement du dividende?\n",
      "Réponse :\n",
      "Le dividende sera payé le 1\n",
      "zzzzzzz\n",
      "Scénario favorable : entre le 31/10/2016 et le 29/10/2021, Scénario intermédiaire : entre le 30/04/2014 et le 30/04/2019, Scénario défavorable : entre le 31/12/2021 et le 12/10/2023\n",
      "\n",
      "*****************\n"
     ]
    }
   ],
   "source": [
    "import json\n",
    "import itertools\n",
    "\n",
    "# Chemin vers le fichier JSON\n",
    "chemin_queries = 'dataset_eval/queries.json'\n",
    "chemin_answers = 'dataset_eval/answers.json'\n",
    "\n",
    "try:\n",
    "    # Ouvrir et lire le fichier JSON\n",
    "    with open(chemin_queries, 'r', encoding='utf-8') as f:\n",
    "        # Charger le contenu JSON dans un dictionnaire Python\n",
    "        queries = json.load(f)\n",
    "\n",
    "except FileNotFoundError:\n",
    "    print(f\"Erreur : Le fichier '{chemin_fichier}' n'a pas été trouvé.\")\n",
    "except json.JSONDecodeError:\n",
    "    print(f\"Erreur : Le contenu de '{chemin_fichier}' n'est pas un JSON valide.\")\n",
    "except Exception as e:\n",
    "    print(f\"Une erreur inattendue est survenue : {e}\")\n",
    "\n",
    "try:\n",
    "    # Ouvrir et lire le fichier JSON\n",
    "    with open(chemin_answers, 'r', encoding='utf-8') as f:\n",
    "        # Charger le contenu JSON dans un dictionnaire Python\n",
    "        answers = json.load(f)\n",
    "\n",
    "except FileNotFoundError:\n",
    "    print(f\"Erreur : Le fichier '{chemin_fichier}' n'a pas été trouvé.\")\n",
    "except json.JSONDecodeError:\n",
    "    print(f\"Erreur : Le contenu de '{chemin_fichier}' n'est pas un JSON valide.\")\n",
    "except Exception as e:\n",
    "    print(f\"Une erreur inattendue est survenue : {e}\")\n",
    "\n",
    "first_five_values = itertools.islice(queries.items(), 5)\n",
    "\n",
    "for key, query in first_five_values:\n",
    "    print(query)\n",
    "    print(\"zzzzzzz\")\n",
    "    print(\"zzzzzzz\")\n",
    "    print(rag_pipeline(query))\n",
    "    print(\"zzzzzzz\")\n",
    "    print(answers[key])\n",
    "    print(\"\")\n",
    "    print(\"*****************\")\n"
   ]
  },
  {
   "cell_type": "code",
   "execution_count": null,
   "id": "c9337ce0-8421-4645-bb6a-14a88420fb02",
   "metadata": {},
   "outputs": [],
   "source": []
  }
 ],
 "metadata": {
  "kernelspec": {
   "display_name": "Python 3 (ipykernel)",
   "language": "python",
   "name": "python3"
  },
  "language_info": {
   "codemirror_mode": {
    "name": "ipython",
    "version": 3
   },
   "file_extension": ".py",
   "mimetype": "text/x-python",
   "name": "python",
   "nbconvert_exporter": "python",
   "pygments_lexer": "ipython3",
   "version": "3.11.10"
  }
 },
 "nbformat": 4,
 "nbformat_minor": 5
}
