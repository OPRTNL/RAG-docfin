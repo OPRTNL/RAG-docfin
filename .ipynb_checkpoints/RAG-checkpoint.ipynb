{
 "cells": [
  {
   "cell_type": "code",
   "execution_count": 1,
   "id": "41d35a38-006e-4297-b6fd-5cc4ae407718",
   "metadata": {},
   "outputs": [],
   "source": [
    "import glob\n",
    "import os"
   ]
  },
  {
   "cell_type": "code",
   "execution_count": 2,
   "id": "568581a6-f01f-45f1-91a2-20a6a6714c46",
   "metadata": {
    "scrolled": true
   },
   "outputs": [
    {
     "name": "stdout",
     "output_type": "stream",
     "text": [
      "175\n"
     ]
    }
   ],
   "source": [
    "from langchain_community.document_loaders import PyPDFDirectoryLoader\n",
    "from langchain.schema import Document\n",
    "import os\n",
    "\n",
    "\n",
    "loader = PyPDFDirectoryLoader(\"DIC\")\n",
    "documents = loader.load()\n",
    "\n",
    "print(len(documents))"
   ]
  },
  {
   "cell_type": "code",
   "execution_count": 3,
   "id": "8509cb4e-490a-40ac-a518-bdac9ce1da96",
   "metadata": {},
   "outputs": [],
   "source": [
    "from dotenv import load_dotenv; \n",
    "load_dotenv(); \n",
    "import os;\n",
    "pinecone_api_key = os.getenv('PINECONE_API_KEY')\n",
    "huggingface_api_key = os.getenv('HUGGINGFACE_API_KEY')\n"
   ]
  },
  {
   "cell_type": "code",
   "execution_count": 4,
   "id": "67835c36-7be8-4ece-8d88-34cbe303388e",
   "metadata": {},
   "outputs": [
    {
     "data": {
      "text/plain": [
       "64"
      ]
     },
     "execution_count": 4,
     "metadata": {},
     "output_type": "execute_result"
    }
   ],
   "source": [
    "len([f for f in os.listdir(\"./DIC/\")])"
   ]
  },
  {
   "cell_type": "code",
   "execution_count": 5,
   "id": "18c1df11-681b-4dcb-8166-9301070e8c88",
   "metadata": {},
   "outputs": [
    {
     "data": {
      "text/plain": [
       "Document(metadata={'source': 'DIC/FR0007040373_DIC_FR_20230630.pdf', 'page': 0}, page_content=\"DOCUMENT D’INFORMATIONS CLÉS \\nLe présent document contient des informations essentielles sur le produit d’investissement. Il ne s’agit pas d’un document à caractère commercial. \\nCes informations vous sont fournies conformément à une obligation légale, afin de vous aider à comprendre en quoi consiste ce p roduit et quels \\nrisques, coûts, gains et pertes potentiels y sont associés, et de vous aider à le comparer à d’autres produits.\\nEn quoi consiste ce produit ? \\nType : Fonds d'Investissement à Vocation Générale (FIVG) \\n \\nDurée\\n : Le Fonds est créé pour une durée de 99 ans. \\n \\nObjectifs\\n :   \\nL’objectif du FCP est, au travers d’une gestion discrétionnaire, la recherche d’une \\nperformance sur une durée de placement recommandée de 5 ans, en s’exposant aux \\nmarchés financiers français ou étrangers actions, obligations et autres titres de créances \\npar le biais d’investissements en titres en direct ou via des OPCVM ou FIA.  \\nLes décisions d’investissement intègrent à la fois des critères financiers et extra-financiers.  \\nLa prise en compte des critères de responsabilité environnementale, sociale et de \\ngouvernance de l’entreprise (ESG) dans la sélection de titres vise à évaluer la capacité des \\nentreprises à transformer les enjeux du développement durable en vecteurs de performance. \\nLa sélection des valeurs (présentée dans la stratégie d’investissement) conjugue recherche \\nde performance financière et prise en compte des enjeux de développement durable. \\nLes décisions d’investissement reposent ainsi sur une approche 360° combinant analyse \\nfinancière fondamentale et analyse extra-financière à travers la prise en compte des critères \\nESG (Environnement, Social, Gouvernance). SG 29 Haussmann a retenu une approche ISR \\nassociant exclusions sectorielles et intégration des critères ESG (Best-in-Class/Best-Effort). \\nSG 29 Haussmann a retenu une approche ISR associant exclusions sectorielles et intégration \\ndes critères ESG (Best-in-Class (sélection des entreprises les mieux notées au sein de leur \\nsecteur)/Best-Effort (sélection d’entreprises dont les pratiques et performances ESG \\ns’améliorent dans le temps)). \\nL’intégration des critères ESG a pour objectif de sélectionner les valeurs sur la base de leur \\ncomportement extra-financier (émissions carbone, santé, sécurité, rémunération \\nactionnariat…) et en particulier sur leur capacité à transformer les enjeux du développement \\ndurable en vecteurs de performance. \\nDans cette optique, seules les entreprises dont la note ESG est supérieure ou égale à B sur \\nune échelle de AAA à CCC (CCC étant le plus mauvaise) dans la nomenclature MSCI, sont \\néligibles à l’univers d’investissement. \\nDans le cadre de sa politique d’investissement, le FCP adopte une approche en amélioration \\nde note. \\nEn cas de dégradation d’un titre en portefeuille sous les seuils retenus dans la définition de \\nl’univers d’investissement (i.e. une note ESG strictement inférieure à B et/ou une note de \\ncontroverse rouge), le gérant privilégie par défaut une cession dans un délai raisonnable. \\nLe choix du timing de vente est apprécié en fonction des conditions et opportunités de \\nmarché afin de limiter l’impact sur la performance financière du FCP . \\nLes limites méthodologiques de l’approche en matière d’analyse ISR concernent notamment \\nla fiabilité des données extra-financières publiées par les entreprises ainsi que la \\nméthodologie d’analyse non exhaustive et subjective mise en place par la société de gestion \\ndans son approche « Best-in-Class » et « Best-Effort ».  \\nLe FCP dispose du Label ISR de l’Etat Français.  \\nLe portefeuille du FCP est composé : \\n-de 0% à 70% maximum de l’actif net en actions ou autres titres de capital internationaux \\nde toutes capitalisations (10% maximum de l’actif net en petites capitalisations). Les \\ninvestissements pourront porter sur toutes les zones géographiques et tous les secteurs \\néconomiques confondus. Le FCP pourra investir jusqu’à 10% maximum de son actif net sur \\nles marchés émergents. L’exposition aux marchés actions pourra varier entre 30% et 70% \\nmaximum de l’actif net par le biais d’investissements en titres directs et/ou via des OPC (ou \\nde fonds d’investissement étrangers) et instruments dérivés listés simples et complexes. \\n-de 0% à 70% maximum de l’actif net en obligations et autres titres de créances négociés sur \\nles marchés des pays appartenant à l’OCDE. Ces titres pourront être de toutes durations, \\nmaturités et zones géographiques confondues (y compris les pays émergents jusqu’à 10% \\nmaximum de l’actif net). Ces titres auront une notation minimale de BBB- (Standard and \\nPoor’s), ou à défaut une notation équivalente par une autre agence, ou jugée équivalente \\npar la société de gestion. La société de gestion s’appuie sur les notations externes et sur \\nson analyse pour évaluer la qualité de crédit des actifs obligataires. Sur ces bases, elle prend \\ndes décisions d’investissement à l’achat et en cours de vie. \\nLa répartition dette privée/dette publique n’est pas limitée et peut évoluer dans le temps.  \\nL’exposition aux marchés de taux pourra varier entre 0% et 70% maximum de l’actif net par \\nle biais d’investissements en titres directs et/ou via des OPC (ou de fonds d’investissement \\nétrangers) et instruments dérivés listés simples et complexes.  \\nToutefois, le FCP peut détenir à tout moment : \\n•dans une limite de 10% maximum de l’actif net du Fonds des obligations de qualité mais \\nnon notées. Les émissions non notées d’émetteurs notés (émissions convertibles par \\nexemple) sont reclassées dans le rating de l’émetteur, selon le rating de créance. \\n•et dans une limite de 15% maximum de l’actif net du Fonds des titres dits spéculatifs, de \\nnotation comprise entre BB+ et BB- (Standard & Poor’s) ou jugée équivalente par la société \\nde gestion. \\n•dans une limite de 5% maximum de l’actif net du Fonds des obligations dont la notation \\nest inférieure à BB- (ou jugée équivalente par des critères internes à la société de gestion) \\nsuite à une dégradation post-investissement. \\nAinsi, l’exposition aux titres spéculatifs pourra atteindre 30% maximum de l’actif net du FCP .  \\nLa fourchette de sensibilité de la partie taux sera comprise entre 0 et 10.  \\nLe FCP peut investir jusqu’à 10% maximum de son actif net en parts ou actions d’OPCVM \\nfrançais ou européens, FIA et fonds d’investissement de droit étranger respectant les critères \\nde l’article R214-13 du Code Monétaire et Financier. Ces OPCVM, FIA et fonds \\nd’investissement peuvent être gérés ou non par la société de gestion ou une société liée.  \\nLe FCP pourra intervenir sur des instruments financiers à terme négociés sur des marchés \\nréglementés, organisés ou de gré à gré dans une optique de couverture et/ou d’exposition \\ncontre les risques actions et de taux, et uniquement de couverture pour le risque de change, \\nsans rechercher de surexposition aux marchés.  \\nLe FCP pourra investir dans des titres intégrant des dérivés simples et complexes.  \\nL’investissement en Obligations Convertibles Contingentes (Coco’s) ne dépassera pas 10% \\nmaximum de l’actif net du FCP . Les Coco’s sont des obligations converties automatiquement \\nen actions à un prix déterminé, au moment où des critères de déclenchement (niveau des \\npertes, niveau dégradé du capital…) seront actionnés.  \\nLes titres non libellés en euro pourront faire éventuellement l’objet d’une couverture de \\nchange. \\nLe fonds pourra être exposé au risque de change à hauteur de 100% maximum de l’actif net.  \\nLes souscriptions et les rachats sont reçus et centralisés au plus tard à 18H30 le jour ouvré \\nprécédant la date d’établissement de la valeur liquidative sur la base de laquelle ils seront \\nexécutés auprès du dépositaire pour les parts au porteur à inscrire ou inscrites au sein \\nd’Euroclear France et s’agissant uniquement de parts d’investisseurs, personnes morales \\nagissant pour compte propre, auprès d’IZNES au plus tard à 18h pour les parts à inscrire ou \\ninscrites au nominatif au sein du Dispositif d’Enregistrement Electronique Partagé (DEEP).  \\n \\nValeur liquidative quotidienne\\n : La valeur liquidative est établie quotidiennement, sauf en \\ncas de jour férié légal en France et/ou en cas de fermeture de la Bourse de Paris.  \\nLe FCP réinvestit les sommes distribuables (revenu net et plus values nettes réalisées). \\n \\nType d’investisseurs visés \\n: Cette part de fonds est ouverte à tout souscripteur. Ce FCP ne peut \\nêtre souscrit par des « U.S. Persons » ou assimilés. \\n \\nRecommandation \\n: Ce FCP pourrait ne pas convenir aux investisseurs qui prévoient de retirer \\nleur apport dans les 5 ans. \\n \\nDépositaire \\n: Société Générale \\n \\nInformations complémentaires\\n : Vous pouvez obtenir de plus amples informations sur ce \\nFonds, y compris le prospectus et les rapports financiers, gratuitement sur demande auprès \\nde SG 29 HAUSSMANN, 29 boulevard Haussmann, 75009 Paris.  \\nLa valeur d’actif nette du fonds est disponible sur : https://sg29haussmann.societegenerale.fr.\\nObjectif\\n \\n29 HAUSSMANN EQUILIBRE \\n FIA soumis au droit français \\n SG 29 HAUSSMANN (Groupe SOCIETE GENERALE) \\n FR0007040373 \\nhttps://sg29haussmann.societegenerale.fr. \\nAppelez le 01 58 98 89 11 pour de plus amples informations \\nL’Autorité des marchés financiers (AMF) est chargée du contrôle de SG 29 HAUSSMANN en ce qui concerne ce document d’informations clés. \\nSG 29 HAUSSMANN est agréée en France sous le n°GP-06000029 et réglementée par l’AMF. \\nDate de production du document d’informations clés\\xa0: 30/06/2023\\nProduit\")"
      ]
     },
     "execution_count": 5,
     "metadata": {},
     "output_type": "execute_result"
    }
   ],
   "source": [
    "documents[4]"
   ]
  },
  {
   "cell_type": "code",
   "execution_count": 6,
   "id": "fd3dc8ab-37c6-4a72-8bba-c0f1f5095885",
   "metadata": {},
   "outputs": [
    {
     "name": "stderr",
     "output_type": "stream",
     "text": [
      "/opt/conda/lib/python3.11/site-packages/scipy/__init__.py:155: UserWarning: A NumPy version >=1.18.5 and <1.26.0 is required for this version of SciPy (detected version 1.26.4\n",
      "  warnings.warn(f\"A NumPy version >={np_minversion} and <{np_maxversion}\"\n"
     ]
    },
    {
     "data": {
      "application/vnd.jupyter.widget-view+json": {
       "model_id": "5196bc5f47644385bcf211f8613e423c",
       "version_major": 2,
       "version_minor": 0
      },
      "text/plain": [
       "modules.json:   0%|          | 0.00/349 [00:00<?, ?B/s]"
      ]
     },
     "metadata": {},
     "output_type": "display_data"
    },
    {
     "data": {
      "application/vnd.jupyter.widget-view+json": {
       "model_id": "0c3cc74da5c446448c4d99571c2a94c6",
       "version_major": 2,
       "version_minor": 0
      },
      "text/plain": [
       "config_sentence_transformers.json:   0%|          | 0.00/123 [00:00<?, ?B/s]"
      ]
     },
     "metadata": {},
     "output_type": "display_data"
    },
    {
     "data": {
      "application/vnd.jupyter.widget-view+json": {
       "model_id": "b708869c2d9546c49103699848d2f85d",
       "version_major": 2,
       "version_minor": 0
      },
      "text/plain": [
       "README.md: 0.00B [00:00, ?B/s]"
      ]
     },
     "metadata": {},
     "output_type": "display_data"
    },
    {
     "data": {
      "application/vnd.jupyter.widget-view+json": {
       "model_id": "c687c907a7964f9f859b62dacb0dc90b",
       "version_major": 2,
       "version_minor": 0
      },
      "text/plain": [
       "sentence_bert_config.json:   0%|          | 0.00/54.0 [00:00<?, ?B/s]"
      ]
     },
     "metadata": {},
     "output_type": "display_data"
    },
    {
     "data": {
      "application/vnd.jupyter.widget-view+json": {
       "model_id": "26fa28d6a8e5417eac2d6e967822b706",
       "version_major": 2,
       "version_minor": 0
      },
      "text/plain": [
       "config.json:   0%|          | 0.00/687 [00:00<?, ?B/s]"
      ]
     },
     "metadata": {},
     "output_type": "display_data"
    },
    {
     "data": {
      "application/vnd.jupyter.widget-view+json": {
       "model_id": "2fb4a6b9347846eda1b8e7cb599a9558",
       "version_major": 2,
       "version_minor": 0
      },
      "text/plain": [
       "pytorch_model.bin:   0%|          | 0.00/2.27G [00:00<?, ?B/s]"
      ]
     },
     "metadata": {},
     "output_type": "display_data"
    },
    {
     "data": {
      "application/vnd.jupyter.widget-view+json": {
       "model_id": "bf005631969f4e24938b1632dbe16c10",
       "version_major": 2,
       "version_minor": 0
      },
      "text/plain": [
       "tokenizer_config.json:   0%|          | 0.00/444 [00:00<?, ?B/s]"
      ]
     },
     "metadata": {},
     "output_type": "display_data"
    },
    {
     "data": {
      "application/vnd.jupyter.widget-view+json": {
       "model_id": "ef07331f85214045a4479d1709e2beaa",
       "version_major": 2,
       "version_minor": 0
      },
      "text/plain": [
       "sentencepiece.bpe.model:   0%|          | 0.00/5.07M [00:00<?, ?B/s]"
      ]
     },
     "metadata": {},
     "output_type": "display_data"
    },
    {
     "data": {
      "application/vnd.jupyter.widget-view+json": {
       "model_id": "da17d430a0574893b452997f20e1ca91",
       "version_major": 2,
       "version_minor": 0
      },
      "text/plain": [
       "tokenizer.json:   0%|          | 0.00/17.1M [00:00<?, ?B/s]"
      ]
     },
     "metadata": {},
     "output_type": "display_data"
    },
    {
     "data": {
      "application/vnd.jupyter.widget-view+json": {
       "model_id": "1672d291b9cf4d2283b14fc50ffa8b9e",
       "version_major": 2,
       "version_minor": 0
      },
      "text/plain": [
       "special_tokens_map.json:   0%|          | 0.00/964 [00:00<?, ?B/s]"
      ]
     },
     "metadata": {},
     "output_type": "display_data"
    },
    {
     "data": {
      "application/vnd.jupyter.widget-view+json": {
       "model_id": "c895e6ca1a2544ae8e36186dcd20ab3f",
       "version_major": 2,
       "version_minor": 0
      },
      "text/plain": [
       "config.json:   0%|          | 0.00/191 [00:00<?, ?B/s]"
      ]
     },
     "metadata": {},
     "output_type": "display_data"
    },
    {
     "data": {
      "application/vnd.jupyter.widget-view+json": {
       "model_id": "a1dc72f773524cc4b487630931b852c0",
       "version_major": 2,
       "version_minor": 0
      },
      "text/plain": [
       "model.safetensors:   0%|          | 0.00/2.27G [00:00<?, ?B/s]"
      ]
     },
     "metadata": {},
     "output_type": "display_data"
    }
   ],
   "source": [
    "from langchain_huggingface.embeddings import HuggingFaceEmbeddings\n",
    "\n",
    "# Charger le modèle d'encodage de texte BAAI/bge-small-en-v1.5 de HuggingFace\n",
    "embedding = HuggingFaceEmbeddings(model_name=\"BAAI/bge-m3\", encode_kwargs={\"normalize_embeddings\" : True})"
   ]
  },
  {
   "cell_type": "code",
   "execution_count": 9,
   "id": "c4239682-773b-4e0c-8316-f2f8cc4baadb",
   "metadata": {},
   "outputs": [
    {
     "name": "stdout",
     "output_type": "stream",
     "text": [
      "534 chunks ont été créés par le splitter à partir du document PDF.\n"
     ]
    }
   ],
   "source": [
    "from langchain.text_splitter import RecursiveCharacterTextSplitter\n",
    "from langchain.docstore.document import Document\n",
    "from langchain_experimental.text_splitter import SemanticChunker\n",
    "\n",
    "\"\"\"\n",
    "# Initialisation du séparateur de texte avec des paramètres spécifiques pour diviser le texte\n",
    "text_splitter = RecursiveCharacterTextSplitter(\n",
    "    chunk_size=600,  # Taille maximale des morceaux de texte\n",
    "    chunk_overlap=60,  # Chevauchement entre les morceaux pour garder le contexte\n",
    "    length_function=len,  # Fonction pour calculer la longueur des morceaux\n",
    "    separators=[\"\\n\\n\", \"\\n\"]  # Séparateurs utilisés pour diviser le texte en morceaux\n",
    ")\n",
    "\"\"\"\n",
    "\n",
    "text_splitter = SemanticChunker(embedding)\n",
    "\n",
    "# Division du document en morceaux (chunks)\n",
    "chunks = text_splitter.split_documents(documents=documents)\n",
    "\n",
    "# Affichage du nombre de morceaux créés à partir du document PDF\n",
    "print(f\"{len(chunks)} chunks ont été créés par le splitter à partir du document PDF.\")"
   ]
  },
  {
   "cell_type": "code",
   "execution_count": null,
   "id": "de5a45ea-130c-43ae-b658-5e3e0a915e5b",
   "metadata": {},
   "outputs": [],
   "source": [
    "chunks[500]"
   ]
  },
  {
   "cell_type": "code",
   "execution_count": 10,
   "id": "93cbb9bf-a6ba-4bee-a2c0-66cbc2718b1e",
   "metadata": {},
   "outputs": [],
   "source": [
    "from pinecone import Pinecone, ServerlessSpec\n",
    "from pinecone.exceptions import NotFoundException\n",
    "\n",
    "# TODO: Inscrire la clé API Pinecone\n",
    "pinecone = Pinecone(api_key=pinecone_api_key)\n",
    "\n",
    "pinecone.delete_index(\"rag\")\n",
    "pinecone.create_index(\"rag\", dimension=1024, spec=ServerlessSpec(cloud=\"aws\", region=\"us-east-1\"))\n"
   ]
  },
  {
   "cell_type": "code",
   "execution_count": 11,
   "id": "7240c655-2f3d-4b09-bf9b-31a56ae63338",
   "metadata": {},
   "outputs": [],
   "source": [
    "from langchain_pinecone.vectorstores import PineconeVectorStore\n",
    "\n",
    "# Initialiser le VectorStore de LlamaIndex avec l'index de Pinecone\n",
    "pinecone_index = pinecone.Index(\"rag\")\n",
    "vector_store = PineconeVectorStore(\n",
    "    index=pinecone_index,\n",
    "    embedding=embedding\n",
    ")"
   ]
  },
  {
   "cell_type": "code",
   "execution_count": 12,
   "id": "22a5cfcd-331b-4f3a-b21b-56f75a82da64",
   "metadata": {},
   "outputs": [
    {
     "name": "stdout",
     "output_type": "stream",
     "text": [
      "534 vecteurs ont été ajoutés dans Pinecone.\n"
     ]
    }
   ],
   "source": [
    "add_result = vector_store.add_documents(chunks)\n",
    "print(f\"{len(add_result)} vecteurs ont été ajoutés dans Pinecone.\")"
   ]
  },
  {
   "cell_type": "code",
   "execution_count": 13,
   "id": "64259d94-d275-45d5-9d53-aee27933749b",
   "metadata": {},
   "outputs": [
    {
     "data": {
      "text/plain": [
       "534"
      ]
     },
     "execution_count": 13,
     "metadata": {},
     "output_type": "execute_result"
    }
   ],
   "source": [
    "len(add_result)"
   ]
  },
  {
   "cell_type": "code",
   "execution_count": 14,
   "id": "13bb3974-957c-4c61-bf77-bb724dd40bac",
   "metadata": {},
   "outputs": [
    {
     "name": "stderr",
     "output_type": "stream",
     "text": [
      "huggingface/tokenizers: The current process just got forked, after parallelism has already been used. Disabling parallelism to avoid deadlocks...\n",
      "To disable this warning, you can either:\n",
      "\t- Avoid using `tokenizers` before the fork if possible\n",
      "\t- Explicitly set the environment variable TOKENIZERS_PARALLELISM=(true | false)\n"
     ]
    },
    {
     "name": "stdout",
     "output_type": "stream",
     "text": [
      "The token has not been saved to the git credentials helper. Pass `add_to_git_credential=True` in this function directly or `--add-to-git-credential` if using via `huggingface-cli` if you want to set the git credential as well.\n",
      "Token is valid (permission: read).\n",
      "Your token has been saved to /root/.cache/huggingface/token\n",
      "Login successful\n"
     ]
    }
   ],
   "source": [
    "!huggingface-cli login --token={huggingface_api_key}"
   ]
  },
  {
   "cell_type": "code",
   "execution_count": 22,
   "id": "20fb4cfa-3c78-44ed-953a-02748d459d66",
   "metadata": {},
   "outputs": [
    {
     "data": {
      "application/vnd.jupyter.widget-view+json": {
       "model_id": "cbab6b6d4c7d42bb919f2138a41703b2",
       "version_major": 2,
       "version_minor": 0
      },
      "text/plain": [
       "Loading checkpoint shards:   0%|          | 0/3 [00:00<?, ?it/s]"
      ]
     },
     "metadata": {},
     "output_type": "display_data"
    }
   ],
   "source": [
    "import transformers\n",
    "import torch\n",
    "\n",
    "from transformers import BitsAndBytesConfig\n",
    "\n",
    "model_id = \"mistralai/Mistral-7B-Instruct-v0.3\"\n",
    "\n",
    "# Chargement de la configuration du modèle\n",
    "model_config = transformers.AutoConfig.from_pretrained(model_id)\n",
    "\n",
    "# Initialiser le tokeniseur\n",
    "tokenizer = transformers.AutoTokenizer.from_pretrained(model_id)\n",
    "\n",
    "model = transformers.AutoModelForCausalLM.from_pretrained(\n",
    "    model_id,\n",
    "    trust_remote_code=True,\n",
    "    config=model_config,\n",
    "    device_map='auto'\n",
    ")"
   ]
  },
  {
   "cell_type": "code",
   "execution_count": 23,
   "id": "39cad646-f662-41b2-adef-9e74915cec95",
   "metadata": {},
   "outputs": [],
   "source": [
    "from langchain_huggingface.llms import HuggingFacePipeline\n",
    "\n",
    "from transformers import pipeline\n",
    "\n",
    "llm=HuggingFacePipeline(\n",
    "    pipeline=pipeline(\n",
    "        \"text-generation\",\n",
    "        model=model,\n",
    "        tokenizer=tokenizer,\n",
    "        max_new_tokens=4096,\n",
    "        do_sample=False,\n",
    "        return_full_text=False  # Très important ! On ne veut pas le prompt initial\n",
    "    )\n",
    ")"
   ]
  },
  {
   "cell_type": "code",
   "execution_count": 28,
   "id": "06ac7415-7203-4557-887f-fdc297f86f71",
   "metadata": {},
   "outputs": [],
   "source": [
    "from langchain_core.prompts import PromptTemplate\n",
    "\n",
    "prompt_template = PromptTemplate.from_template(\"\"\"You are an assistant for question-answering tasks. Use the following pieces of retrieved context to answer the question. If you don't know the answer, just say that you don't know. Use three sentences maximum and keep the answer concise.\n",
    "Question: {question} \n",
    "Context: {context} \n",
    "Answer: \"\"\")\n",
    "\n",
    "def build_context(docs):\n",
    "    context = \"\"\n",
    "    for doc in docs:\n",
    "        context += doc.metadata[\"source\"]\n",
    "        context += \"\\n\"\n",
    "        context += doc.page_content\n",
    "        context += \"\\n\\n\"\n",
    "    print(context)\n",
    "        \n",
    "def rag_pipeline(query):\n",
    "    # Tout d'abord, on recherche les documents\n",
    "    retrieved_docs = vector_store.similarity_search(query)\n",
    "    # Ensuite, on injecte les documents dans le prompt\n",
    "    prompt = prompt_template.invoke({\n",
    "        \"question\": query,\n",
    "        \"context\": build_context(retrieved_docs)\n",
    "    })\n",
    "    # Enfin, on envoit l'intégralité du prompt au LLM\n",
    "    return llm.invoke(prompt).strip()"
   ]
  },
  {
   "cell_type": "code",
   "execution_count": 29,
   "id": "89b4b752-9bbd-4db7-95af-a85aaa6b2373",
   "metadata": {},
   "outputs": [
    {
     "name": "stderr",
     "output_type": "stream",
     "text": [
      "Setting `pad_token_id` to `eos_token_id`:None for open-end generation.\n"
     ]
    },
    {
     "name": "stdout",
     "output_type": "stream",
     "text": [
      "DIC/KIDPRIIPs_391737_63121_FRA_FRA_20231030.pdf\n",
      "Autres informations pertinentesVous trouverez le prospectus, les statuts, les documents d’informationsclés pour l’investisseur, les avis aux investisseurs, les rapports ﬁnanciers etd’autres documents d’informations relatifs au Compartiment, y compris lesdiverses politiques publiées du Compartiment, sur notre site Internetwww.amundi.lu. Vous pouvez également demander une copie de cesdocuments au siège social de la Société de gestion. Performance passée : Vous pouvez télécharger les performances passéesdu Compartiment au cours des 5 dernières années sur www.amundi.lu. Scénarios de performance : Vous pouvez consulter les scénarios deperformance précédents mis à jour chaque mois sur www.amundi.lu. Comment puis-je formuler une réclamation ?Si vous avez des réclamations, vous pouvez :Appeler notre hotline dédiée aux réclamations au +352 2686 8001Envoyer un courrier à Amundi Luxembourg S.A., Service clients, 5 alléeScheﬀer, 2520 Luxembourg, LuxembourgEnvoyer un e-mail à info@amundi.com Dans le cas d’une réclamation, vous devez indiquer clairement voscoordonnées (nom, adresse, numéro de téléphone ou adresse e-mail) etfournir une brève explication de votre réclamation. Vous trouverezdavantage d’informations sur notre site Internet www.amundi.lu. Si vous avez une réclamation au sujet de la personne qui vous a conseilléce produit ou qui vous l’a vendu, vous devez vous rapprocher d’elle pourobtenir toutes les informations concernant la démarche à suivre pour faireune réclamation. Page 3 sur 3\n",
      "\n",
      "DIC/KIDPRIIPs_391793_48169_FRA_FRA_20231030.pdf\n",
      "Vouspouvez obtenir le remboursement de votre investissement à tout momentou le détenir plus longtemps. Calendrier des ordres : Les ordres de rachat d’actions doivent être reçusavant 14 h 00, heure de Luxembourg, au plus tard un (1) jour ouvrableavant le jour d’évaluation. Veuillez consulter le Prospectus d’Amundi IndexSolutions pour de plus amples informations concernant les rachats. Autres informations pertinentesVous trouverez le prospectus, les statuts, les documents d’informationsclés pour l’investisseur, les avis aux investisseurs, les rapports ﬁnanciers etd’autres documents d’informations relatifs au Compartiment, y compris lesdiverses politiques publiées du Compartiment, sur notre site Internetwww.amundi.lu. Vous pouvez également demander une copie de cesdocuments au siège social de la Société de gestion. Performance passée : Vous pouvez télécharger les performances passéesdu Compartiment au cours des 10 dernières années sur www.amundi.lu. Scénarios de performance : Vous pouvez consulter les scénarios deperformance précédents mis à jour chaque mois sur www.amundi.lu. Comment puis-je formuler une réclamation ?Si vous avez des réclamations, vous pouvez :Appeler notre hotline dédiée aux réclamations au +352 2686 8001Envoyer un courrier à Amundi Luxembourg S.A., Service clients, 5 alléeScheﬀer, 2520 Luxembourg, LuxembourgEnvoyer un e-mail à info@amundi.com Dans le cas d’une réclamation, vous devez indiquer clairement voscoordonnées (nom, adresse, numéro de téléphone ou adresse e-mail) etfournir une brève explication de votre réclamation. Vous trouverezdavantage d’informations sur notre site Internet www.amundi.lu. Si vous avez une réclamation au sujet de la personne qui vous a conseilléce produit ou qui vous l’a vendu, vous devez vous rapprocher d’elle pourobtenir toutes les informations concernant la démarche à suivre pour faireune réclamation. Page 3 sur 3\n",
      "\n",
      "DIC/KIDPRIIPs_391370_57904_FRA_FRA_20231030.pdf\n",
      "Vouspouvez obtenir le remboursement de votre investissement à tout momentou le détenir plus longtemps. Calendrier des ordres : Les ordres de rachat d’actions doivent être reçusavant 14 h 00, heure de Luxembourg, au plus tard un (1) jour ouvrableavant le jour d’évaluation. Veuillez consulter le Prospectus d’Amundi IndexSolutions pour de plus amples informations concernant les rachats. Autres informations pertinentesVous trouverez le prospectus, les statuts, les documents d’informationsclés pour l’investisseur, les avis aux investisseurs, les rapports ﬁnanciers etd’autres documents d’informations relatifs au Compartiment, y compris lesdiverses politiques publiées du Compartiment, sur notre site Internetwww.amundi.lu. Vous pouvez également demander une copie de cesdocuments au siège social de la Société de gestion. Performance passée : Vous pouvez télécharger les performances passéesdu Compartiment au cours des 10 dernières années sur www.amundi.lu. Scénarios de performance : Vous pouvez consulter les scénarios deperformance précédents mis à jour chaque mois sur www.amundi.lu. Comment puis-je formuler une réclamation ?Si vous avez des réclamations, vous pouvez :Appeler notre hotline dédiée aux réclamations au +352 2686 8001Envoyer un courrier à Amundi Luxembourg S.A., Service clients, 5 alléeScheﬀer, 2520 Luxembourg, LuxembourgEnvoyer un e-mail à info@amundi.com Dans le cas d’une réclamation, vous devez indiquer clairement voscoordonnées (nom, adresse, numéro de téléphone ou adresse e-mail) etfournir une brève explication de votre réclamation. Vous trouverezdavantage d’informations sur notre site Internet www.amundi.lu. Si vous avez une réclamation au sujet de la personne qui vous a conseilléce produit ou qui vous l’a vendu, vous devez vous rapprocher d’elle pourobtenir toutes les informations concernant la démarche à suivre pour faireune réclamation. Page 3 sur 3\n",
      "\n",
      "DIC/KIDPRIIPs_388767_52272_FRA_FRA_20231030.pdf\n",
      "Vouspouvez obtenir le remboursement de votre investissement à tout momentou le détenir plus longtemps. Calendrier des ordres : Les ordres de rachat d’actions doivent être reçusavant 14 h 00, heure de Luxembourg, au plus tard un (1) jour ouvrableavant le jour d’évaluation. Veuillez consulter le Prospectus d’Amundi IndexSolutions pour de plus amples informations concernant les rachats. Autres informations pertinentesVous trouverez le prospectus, les statuts, les documents d’informationsclés pour l’investisseur, les avis aux investisseurs, les rapports ﬁnanciers etd’autres documents d’informations relatifs au Compartiment, y compris lesdiverses politiques publiées du Compartiment, sur notre site Internetwww.amundi.lu. Vous pouvez également demander une copie de cesdocuments au siège social de la Société de gestion. Performance passée : Vous pouvez télécharger les performances passéesdu Compartiment au cours des 10 dernières années sur www.amundi.lu. Scénarios de performance : Vous pouvez consulter les scénarios deperformance précédents mis à jour chaque mois sur www.amundi.lu. Comment puis-je formuler une réclamation ?Si vous avez des réclamations, vous pouvez :Appeler notre hotline dédiée aux réclamations au +352 2686 8001Envoyer un courrier à Amundi Luxembourg S.A., Service clients, 5 alléeScheﬀer, 2520 Luxembourg, LuxembourgEnvoyer un e-mail à info@amundi.com Dans le cas d’une réclamation, vous devez indiquer clairement voscoordonnées (nom, adresse, numéro de téléphone ou adresse e-mail) etfournir une brève explication de votre réclamation. Vous trouverezdavantage d’informations sur notre site Internet www.amundi.lu. Si vous avez une réclamation au sujet de la personne qui vous a conseilléce produit ou qui vous l’a vendu, vous devez vous rapprocher d’elle pourobtenir toutes les informations concernant la démarche à suivre pour faireune réclamation. Page 3 sur 3\n",
      "\n",
      "\n",
      "Si Amundi Luxembourg S.A. ne peut pas effectuer les versements, il y aura un retard dans les paiements. Cela pourrait entraîner des pénalités ou des dommages pour les parties concernées. Le document utilisé pour cette réponse n'a pas été fourni.\n"
     ]
    }
   ],
   "source": [
    "query = \"\"\"\n",
    "Que se passe-t-il si Amundi Luxembourg S.A. n’est pas en mesure d’effectuer les versements ? Donne également le titre du document utilisé pour ta réponse.\n",
    "\"\"\"\n",
    "\n",
    "# Effectuer une requête\n",
    "response = rag_pipeline(query)\n",
    "print(response)"
   ]
  },
  {
   "cell_type": "code",
   "execution_count": null,
   "id": "baa84d8b-55b5-4398-9bb3-02b4d4fd6c0e",
   "metadata": {},
   "outputs": [],
   "source": []
  }
 ],
 "metadata": {
  "kernelspec": {
   "display_name": "Python 3 (ipykernel)",
   "language": "python",
   "name": "python3"
  },
  "language_info": {
   "codemirror_mode": {
    "name": "ipython",
    "version": 3
   },
   "file_extension": ".py",
   "mimetype": "text/x-python",
   "name": "python",
   "nbconvert_exporter": "python",
   "pygments_lexer": "ipython3",
   "version": "3.11.10"
  }
 },
 "nbformat": 4,
 "nbformat_minor": 5
}
