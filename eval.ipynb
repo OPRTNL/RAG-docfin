{
 "cells": [
  {
   "cell_type": "markdown",
   "id": "d3b64081-10bb-4ef5-a380-89b79c143ef1",
   "metadata": {},
   "source": [
    "Eval modele\n",
    "solution d'appel du retriver sur une query\n",
    "sur la base des attendu\n"
   ]
  },
  {
   "cell_type": "code",
   "execution_count": 1,
   "id": "1176b727-c87b-4171-8bc5-77efece261b7",
   "metadata": {},
   "outputs": [
    {
     "name": "stderr",
     "output_type": "stream",
     "text": [
      "The `load_in_4bit` and `load_in_8bit` arguments are deprecated and will be removed in the future versions. Please, pass a `BitsAndBytesConfig` object in `quantization_config` argument instead.\n"
     ]
    },
    {
     "data": {
      "application/vnd.jupyter.widget-view+json": {
       "model_id": "c57bb6e16cd2498082a5251d1365b79b",
       "version_major": 2,
       "version_minor": 0
      },
      "text/plain": [
       "Loading checkpoint shards:   0%|          | 0/3 [00:00<?, ?it/s]"
      ]
     },
     "metadata": {},
     "output_type": "display_data"
    },
    {
     "name": "stdout",
     "output_type": "stream",
     "text": [
      "The token has not been saved to the git credentials helper. Pass `add_to_git_credential=True` in this function directly or `--add-to-git-credential` if using via `huggingface-cli` if you want to set the git credential as well.\n",
      "Token is valid (permission: read).\n",
      "Your token has been saved to /root/.cache/huggingface/token\n",
      "Login successful\n"
     ]
    },
    {
     "name": "stderr",
     "output_type": "stream",
     "text": [
      "The `load_in_4bit` and `load_in_8bit` arguments are deprecated and will be removed in the future versions. Please, pass a `BitsAndBytesConfig` object in `quantization_config` argument instead.\n"
     ]
    },
    {
     "data": {
      "application/vnd.jupyter.widget-view+json": {
       "model_id": "0453c546d52f45fbbf8e19d9fd16ea38",
       "version_major": 2,
       "version_minor": 0
      },
      "text/plain": [
       "Loading checkpoint shards:   0%|          | 0/3 [00:00<?, ?it/s]"
      ]
     },
     "metadata": {},
     "output_type": "display_data"
    }
   ],
   "source": [
    "import os\n",
    "os.environ[\"TOKENIZERS_PARALLELISM\"] = \"false\"\n",
    "\n",
    "from rag_engine.llm_loader import load_llm\n",
    "TOK, LLM = load_llm()\n",
    "\n",
    "from pipeline import rag_pipeline, build_context, vector_store\n"
   ]
  },
  {
   "cell_type": "code",
   "execution_count": 2,
   "id": "1d6b2bd8-4825-4404-b1a6-094e9945159b",
   "metadata": {
    "scrolled": true
   },
   "outputs": [
    {
     "name": "stdout",
     "output_type": "stream",
     "text": [
      "❓ Question (6ca4da60-a74c-45cb-b41c-c5fac380b7b9) : Quel est l'objectif de gestion du FCP décrit dans le document ?\n",
      "\n"
     ]
    },
    {
     "name": "stderr",
     "output_type": "stream",
     "text": [
      "Setting `pad_token_id` to `eos_token_id`:None for open-end generation.\n"
     ]
    },
    {
     "name": "stdout",
     "output_type": "stream",
     "text": [
      "🤖 Réponse LLM :\n",
      "Answer: L'objectif de gestion du FCP est, sur la durée de placement recommandée supérieure à 5 ans, de surperformer l'indice ICE BofA Euro Corporate (ER00 Index), en s'exposant aux marchés internationaux de taux et de crédit. Cette gestion est mise en oeuvre de façon discrétionnaire au sein de l'OPCVM. Les décisions d'investissement intègrent à la fois des critères financiers et extra-financ\n",
      "\n",
      "✅ Réponse attendue :\n",
      "La recherche d'une performance sur la durée de placement recommandée supérieure à 5 ans par un placement sur les marchés financiers actions internationales, pays émergents inclus, tout en tenant compte des enjeux de développement durable.\n",
      "\n",
      "────────────────────────────────────────────\n",
      "❓ Question (0be2c984-debb-4c78-96f9-754dce277409) : Quels critères sont pris en compte dans les décisions d'investissement du FCP ?\n",
      "\n"
     ]
    },
    {
     "name": "stderr",
     "output_type": "stream",
     "text": [
      "Setting `pad_token_id` to `eos_token_id`:None for open-end generation.\n",
      "Setting `pad_token_id` to `eos_token_id`:None for open-end generation.\n"
     ]
    },
    {
     "name": "stdout",
     "output_type": "stream",
     "text": [
      "🤖 Réponse LLM :\n",
      "Answer: Les critères de responsabilité environnementale, sociale et de gouvernance de l'entreprise (ESG) sont pris en compte dans les décisions d'investissement du FCP.\n",
      "\n",
      "✅ Réponse attendue :\n",
      "Les critères financiers et extra-financiers, notamment les critères de responsabilité environnementale, sociale et de gouvernance de l'entreprise (ESG).\n",
      "\n",
      "────────────────────────────────────────────\n",
      "❓ Question (3859c017-ac8e-41bd-971f-d5d5e375b97e) : A quoi vise la prise en compte des critères ESG dans la sélection de titres du FCP ?\n",
      "\n"
     ]
    },
    {
     "name": "stderr",
     "output_type": "stream",
     "text": [
      "Setting `pad_token_id` to `eos_token_id`:None for open-end generation.\n"
     ]
    },
    {
     "name": "stdout",
     "output_type": "stream",
     "text": [
      "🤖 Réponse LLM :\n",
      "Answer: La prise en compte des critères ESG (Environnement, Social, Gouvernance) dans la sélection de titres du FCP vise à évaluer la capacité des entreprises à transformer les enjeux du développement durable en vecteurs de performance.\n",
      "\n",
      "✅ Réponse attendue :\n",
      "Evaluer la capacité des entreprises à transformer les enjeux du développement durable en vecteurs de performance.\n",
      "\n",
      "────────────────────────────────────────────\n",
      "❓ Question (8a72a582-d7bf-44ad-84d5-fc3e4b8b8262) : Quels sont les scénarios mentionnés pour un investissement utilisant un mandataire approprié ?\n",
      "\n"
     ]
    },
    {
     "name": "stderr",
     "output_type": "stream",
     "text": [
      "Setting `pad_token_id` to `eos_token_id`:None for open-end generation.\n"
     ]
    },
    {
     "name": "stdout",
     "output_type": "stream",
     "text": [
      "🤖 Réponse LLM :\n",
      "Answer: Scénario favorable : entre le 31/10/2016 et le 29/10/2021. Scénario intermédiaire : entre le 30/10/2015 et le 30/10/2020 ou entre le 28/02/2017 et le 28/02/2022. Scénario défavorable : entre le 31/12/2021 et le 15/1\n",
      "\n",
      "✅ Réponse attendue :\n",
      "Scénario favorable, scénario intermédiaire, scénario défavorable\n",
      "\n",
      "────────────────────────────────────────────\n",
      "❓ Question (e943d006-d450-4c3c-897a-4ca810a92dde) : Quelles sont les dates associées à chaque scénario pour un investissement utilisant un mandataire approprié ?\n",
      "\n",
      "🤖 Réponse LLM :\n",
      "Answer: Scénario favorable : entre le 31/10/2016 et le 29/10/2021\n",
      "Scénario intermédiaire : entre le 30/10/2015 et le 30/10/2020\n",
      "Scénario défavorable : entre le 31/12/2021 et le 15/12/2023\n",
      "\n",
      "✅ Réponse attendue :\n",
      "Scénario favorable : entre le 31/10/2016 et le 29/10/2021, Scénario intermédiaire : entre le 30/04/2014 et le 30/04/2019, Scénario défavorable : entre le 31/12/2021 et le 12/10/2023\n",
      "\n",
      "────────────────────────────────────────────\n"
     ]
    }
   ],
   "source": [
    "import json\n",
    "from itertools import islice\n",
    "\n",
    "# Fichiers dataset\n",
    "chemin_queries = \"dataset_eval/queries.json\"\n",
    "chemin_answers = \"dataset_eval/answers.json\"\n",
    "\n",
    "def load_json(path):\n",
    "    with open(path, \"r\", encoding=\"utf-8\") as f:\n",
    "        return json.load(f)\n",
    "\n",
    "queries = load_json(chemin_queries)\n",
    "answers = load_json(chemin_answers)\n",
    "\n",
    "# On prend les 5 premiers (clé, question)\n",
    "first_five = list(islice(queries.items(), 5))\n",
    "\n",
    "for key, query in first_five:\n",
    "    print(f\"❓ Question ({key}) : {query}\\n\")\n",
    "    \n",
    "    model_answer = rag_pipeline(query)\n",
    "    \n",
    "    print(f\"🤖 Réponse LLM :\\n{model_answer}\\n\")\n",
    "    print(f\"✅ Réponse attendue :\\n{answers[key]}\\n\")\n",
    "    print(\"────────────────────────────────────────────\")\n"
   ]
  },
  {
   "cell_type": "code",
   "execution_count": 3,
   "id": "c9337ce0-8421-4645-bb6a-14a88420fb02",
   "metadata": {},
   "outputs": [
    {
     "name": "stderr",
     "output_type": "stream",
     "text": [
      "Setting `pad_token_id` to `eos_token_id`:None for open-end generation.\n",
      "Setting `pad_token_id` to `eos_token_id`:None for open-end generation.\n"
     ]
    },
    {
     "name": "stdout",
     "output_type": "stream",
     "text": [
      "❓ Quel est l'objectif de gestion du FCP décrit dans le document ?\n",
      "🤖 Answer: L'objectif de gestion du FCP est, sur la durée de placement recommandée supérieure à 5 ans, de surperformer l'indice ICE BofA Euro Corporate (ER00 Index), en s'exposant aux marchés internationaux de taux et de crédit. Cette gestion est mise en oeuvre de façon discrétionnaire au sein de l'OPCVM. Les décisions d'investissement intègrent à la fois des critères financiers et extra-financ\n",
      "✅ La recherche d'une performance sur la durée de placement recommandée supérieure à 5 ans par un placement sur les marchés financiers actions internationales, pays émergents inclus, tout en tenant compte des enjeux de développement durable.\n",
      "🎯 Match: False\n",
      "───────────────────\n",
      "❓ Quels critères sont pris en compte dans les décisions d'investissement du FCP ?\n",
      "🤖 Answer: Les critères de responsabilité environnementale, sociale et de gouvernance de l'entreprise (ESG) sont pris en compte dans les décisions d'investissement du FCP.\n",
      "✅ Les critères financiers et extra-financiers, notamment les critères de responsabilité environnementale, sociale et de gouvernance de l'entreprise (ESG).\n",
      "🎯 Match: False\n",
      "───────────────────\n"
     ]
    },
    {
     "name": "stderr",
     "output_type": "stream",
     "text": [
      "Setting `pad_token_id` to `eos_token_id`:None for open-end generation.\n",
      "Setting `pad_token_id` to `eos_token_id`:None for open-end generation.\n"
     ]
    },
    {
     "name": "stdout",
     "output_type": "stream",
     "text": [
      "❓ A quoi vise la prise en compte des critères ESG dans la sélection de titres du FCP ?\n",
      "🤖 Answer: La prise en compte des critères ESG (Environnement, Social, Gouvernance) dans la sélection de titres du FCP vise à évaluer la capacité des entreprises à transformer les enjeux du développement durable en vecteurs de performance.\n",
      "✅ Evaluer la capacité des entreprises à transformer les enjeux du développement durable en vecteurs de performance.\n",
      "🎯 Match: False\n",
      "───────────────────\n"
     ]
    },
    {
     "name": "stderr",
     "output_type": "stream",
     "text": [
      "Setting `pad_token_id` to `eos_token_id`:None for open-end generation.\n"
     ]
    },
    {
     "name": "stdout",
     "output_type": "stream",
     "text": [
      "❓ Quels sont les scénarios mentionnés pour un investissement utilisant un mandataire approprié ?\n",
      "🤖 Answer: Scénario favorable : entre le 31/10/2016 et le 29/10/2021. Scénario intermédiaire : entre le 30/10/2015 et le 30/10/2020 ou entre le 28/02/2017 et le 28/02/2022. Scénario défavorable : entre le 31/12/2021 et le 15/1\n",
      "✅ Scénario favorable, scénario intermédiaire, scénario défavorable\n",
      "🎯 Match: False\n",
      "───────────────────\n",
      "❓ Quelles sont les dates associées à chaque scénario pour un investissement utilisant un mandataire approprié ?\n",
      "🤖 Answer: Scénario favorable : entre le 31/10/2016 et le 29/10/2021\n",
      "Scénario intermédiaire : entre le 30/10/2015 et le 30/10/2020\n",
      "Scénario défavorable : entre le 31/12/2021 et le 15/12/2023\n",
      "✅ Scénario favorable : entre le 31/10/2016 et le 29/10/2021, Scénario intermédiaire : entre le 30/04/2014 et le 30/04/2019, Scénario défavorable : entre le 31/12/2021 et le 12/10/2023\n",
      "🎯 Match: False\n",
      "───────────────────\n",
      "Temps total: 49.75s\n",
      "Score: 0/5\n"
     ]
    }
   ],
   "source": [
    "import time\n",
    "\n",
    "correct = 0\n",
    "start = time.time()\n",
    "\n",
    "for key, query in first_five:\n",
    "    answer_gt = answers[key]\n",
    "    answer_model = rag_pipeline(query)\n",
    "\n",
    "    is_correct = answer_gt.lower() in answer_model.lower()\n",
    "    correct += int(is_correct)\n",
    "\n",
    "    print(f\"❓ {query}\")\n",
    "    print(f\"🤖 {answer_model}\")\n",
    "    print(f\"✅ {answer_gt}\")\n",
    "    print(f\"🎯 Match: {is_correct}\")\n",
    "    print(\"───────────────────\")\n",
    "\n",
    "print(f\"Temps total: {time.time()-start:.2f}s\")\n",
    "print(f\"Score: {correct}/{len(first_five)}\")\n"
   ]
  },
  {
   "cell_type": "code",
   "execution_count": null,
   "id": "ca99c4b0-4db2-404d-99c7-0675fb52af75",
   "metadata": {},
   "outputs": [],
   "source": []
  }
 ],
 "metadata": {
  "kernelspec": {
   "display_name": "Python 3 (ipykernel)",
   "language": "python",
   "name": "python3"
  },
  "language_info": {
   "codemirror_mode": {
    "name": "ipython",
    "version": 3
   },
   "file_extension": ".py",
   "mimetype": "text/x-python",
   "name": "python",
   "nbconvert_exporter": "python",
   "pygments_lexer": "ipython3",
   "version": "3.11.10"
  }
 },
 "nbformat": 4,
 "nbformat_minor": 5
}
