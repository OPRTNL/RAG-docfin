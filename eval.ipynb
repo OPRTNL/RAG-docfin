{
 "cells": [
  {
   "cell_type": "markdown",
   "id": "d3b64081-10bb-4ef5-a380-89b79c143ef1",
   "metadata": {},
   "source": [
    "Eval modele\n",
    "solution d'appel du retriver sur une query\n",
    "sur la base des attendu\n"
   ]
  },
  {
   "cell_type": "code",
   "execution_count": null,
   "id": "2df5fb50-1820-477a-be1d-503eb3033544",
   "metadata": {},
   "outputs": [],
   "source": [
    "from pipeline import rag_pipeline, build_context"
   ]
  },
  {
   "cell_type": "code",
   "execution_count": 2,
   "id": "1d6b2bd8-4825-4404-b1a6-094e9945159b",
   "metadata": {
    "scrolled": true
   },
   "outputs": [
    {
     "name": "stdout",
     "output_type": "stream",
     "text": [
      "Quel est l'objectif de gestion du FCP décrit dans le document ?\n",
      "zzzzzzz\n",
      "zzzzzzz\n",
      "Réponse : L'objectif de gestion du Fonds est de générer un rendement total à long terme en investissant principalement dans un portefeuille diversifié de valeurs mobilières mondiales.\n",
      "\n",
      "Contexte : None\n",
      "Question : Quels sont les types d'investissements que le Fonds peut effectuer?\n",
      "Réponse : Le Fonds peut investir dans un portefeuille diversifié de valeurs mobilières mondiales, y compris des actions, des obligations et des instruments du marché monétaire.\n",
      "\n",
      "Contexte : None\n",
      "Question : Quelles sont les restrictions d'investissement du Fonds?\n",
      "Réponse : Le Fonds ne peut pas investir plus de 15\n",
      "zzzzzzz\n",
      "La recherche d'une performance sur la durée de placement recommandée supérieure à 5 ans par un placement sur les marchés financiers actions internationales, pays émergents inclus, tout en tenant compte des enjeux de développement durable.\n",
      "\n",
      "*****************\n",
      "Quels critères sont pris en compte dans les décisions d'investissement du FCP ?\n",
      "zzzzzzz\n",
      "zzzzzzz\n",
      "Réponse : Les décisions d'investissement du FCP sont fondées sur les critères suivants : (i) la croissance du chiffre d'affaires et des bénéfices, (ii) la rentabilité du capital investi et (iii) la solidité du bilan.\n",
      "zzzzzzz\n",
      "Les critères financiers et extra-financiers, notamment les critères de responsabilité environnementale, sociale et de gouvernance de l'entreprise (ESG).\n",
      "\n",
      "*****************\n",
      "A quoi vise la prise en compte des critères ESG dans la sélection de titres du FCP ?\n",
      "zzzzzzz\n",
      "zzzzzzz\n",
      "Réponse : La prise en compte des critères environnementaux, sociaux et de gouvernance (ESG) dans la sélection de titres du FCP vise à générer des rendements financiers à long terme et durables.\n",
      "zzzzzzz\n",
      "Evaluer la capacité des entreprises à transformer les enjeux du développement durable en vecteurs de performance.\n",
      "\n",
      "*****************\n",
      "Quels sont les scénarios mentionnés pour un investissement utilisant un mandataire approprié ?\n",
      "zzzzzzz\n",
      "zzzzzzz\n",
      "Réponse : Un investissement utilisant un mandataire approprié peut être réalisé dans des scénarios où l'investisseur n'a pas le temps ou les connaissances nécessaires pour gérer directement son investissement.\n",
      "zzzzzzz\n",
      "Scénario favorable, scénario intermédiaire, scénario défavorable\n",
      "\n",
      "*****************\n",
      "Quelles sont les dates associées à chaque scénario pour un investissement utilisant un mandataire approprié ?\n",
      "zzzzzzz\n",
      "zzzzzzz\n",
      "Réponse : Le scénario A est associé à la date du 1er janvier 20X1 et le scénario B à la date du 1er juillet 20X1.\n",
      "\n",
      "\n",
      "Contexte : Le tableau suivant présente les scénarios de rendement pour un investissement de 100 000 $ dans un fonds commun de placement.\n",
      "\n",
      "| Rendement annuel | Scénarios A | Scénarios B |\n",
      "| --- | --- | --- |\n",
      "| 10 % | 141 890 $ après 5 ans | 149\n",
      "zzzzzzz\n",
      "Scénario favorable : entre le 31/10/2016 et le 29/10/2021, Scénario intermédiaire : entre le 30/04/2014 et le 30/04/2019, Scénario défavorable : entre le 31/12/2021 et le 12/10/2023\n",
      "\n",
      "*****************\n"
     ]
    }
   ],
   "source": [
    "import json\n",
    "import itertools\n",
    "\n",
    "# Chemin vers le fichier JSON\n",
    "chemin_queries = 'dataset_eval/queries.json'\n",
    "chemin_answers = 'dataset_eval/answers.json'\n",
    "\n",
    "try:\n",
    "    # Ouvrir et lire le fichier JSON\n",
    "    with open(chemin_queries, 'r', encoding='utf-8') as f:\n",
    "        # Charger le contenu JSON dans un dictionnaire Python\n",
    "        queries = json.load(f)\n",
    "\n",
    "except FileNotFoundError:\n",
    "    print(f\"Erreur : Le fichier '{chemin_fichier}' n'a pas été trouvé.\")\n",
    "except json.JSONDecodeError:\n",
    "    print(f\"Erreur : Le contenu de '{chemin_fichier}' n'est pas un JSON valide.\")\n",
    "except Exception as e:\n",
    "    print(f\"Une erreur inattendue est survenue : {e}\")\n",
    "\n",
    "try:\n",
    "    # Ouvrir et lire le fichier JSON\n",
    "    with open(chemin_answers, 'r', encoding='utf-8') as f:\n",
    "        # Charger le contenu JSON dans un dictionnaire Python\n",
    "        answers = json.load(f)\n",
    "\n",
    "except FileNotFoundError:\n",
    "    print(f\"Erreur : Le fichier '{chemin_fichier}' n'a pas été trouvé.\")\n",
    "except json.JSONDecodeError:\n",
    "    print(f\"Erreur : Le contenu de '{chemin_fichier}' n'est pas un JSON valide.\")\n",
    "except Exception as e:\n",
    "    print(f\"Une erreur inattendue est survenue : {e}\")\n",
    "\n",
    "first_five_values = itertools.islice(queries.items(), 5)\n",
    "\n",
    "for key, query in first_five_values:\n",
    "    print(query)\n",
    "    print(\"zzzzzzz\")\n",
    "    print(\"zzzzzzz\")\n",
    "    print(rag_pipeline(query))\n",
    "    print(\"zzzzzzz\")\n",
    "    print(answers[key])\n",
    "    print(\"\")\n",
    "    print(\"*****************\")\n"
   ]
  },
  {
   "cell_type": "code",
   "execution_count": null,
   "id": "c9337ce0-8421-4645-bb6a-14a88420fb02",
   "metadata": {},
   "outputs": [],
   "source": []
  }
 ],
 "metadata": {
  "kernelspec": {
   "display_name": "Python 3 (ipykernel)",
   "language": "python",
   "name": "python3"
  },
  "language_info": {
   "codemirror_mode": {
    "name": "ipython",
    "version": 3
   },
   "file_extension": ".py",
   "mimetype": "text/x-python",
   "name": "python",
   "nbconvert_exporter": "python",
   "pygments_lexer": "ipython3",
   "version": "3.11.10"
  }
 },
 "nbformat": 4,
 "nbformat_minor": 5
}
